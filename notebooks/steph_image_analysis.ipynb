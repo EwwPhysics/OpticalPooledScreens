{
 "cells": [
  {
   "cell_type": "code",
   "execution_count": 113,
   "metadata": {
    "pycharm": {
     "name": "#%%\n"
    }
   },
   "outputs": [
    {
     "name": "stdout",
     "output_type": "stream",
     "text": [
      "/Users/sasha/PycharmProjects/OpticalPooledScreens/projects/steph\n"
     ]
    }
   ],
   "source": [
    "import ops\n",
    "from ops.imports_ipython import *\n",
    "\n",
    "# runs example from repository directory\n",
    "home = os.path.dirname(os.path.dirname(ops.__file__))\n",
    "os.chdir(os.path.join(home, 'projects', 'steph'))\n",
    "print(os.getcwd())"
   ]
  },
  {
   "cell_type": "code",
   "execution_count": 134,
   "outputs": [],
   "source": [
    "WILDCARDS = dict(well=3, tile=1) # change these to change the well and tile that you want to analyze\n",
    "CYCLES = 11 # number of cycles\n",
    "\n",
    "# image processing thresholds and expected values\n",
    "THRESHOLD_READS = 50\n",
    "THRESHOLD_DAPI = 200\n",
    "THRESHOLD_CELL = 600\n",
    "NUCLEUS_AREA = 40, 400\n",
    "\n",
    "SBS_CYCLES = range(1, CYCLES + 1)\n",
    "\n",
    "# color of bases\n",
    "# lut = \"lookup table\", used to map one color to another like a filter\n",
    "LUTS = [\n",
    "    ops.io.GRAY,\n",
    "    ops.io.GREEN,\n",
    "    ops.io.RED,\n",
    "    ops.io.MAGENTA,\n",
    "    ops.io.CYAN\n",
    "]\n",
    "\n",
    "# for formatting tif images when they are saved?\n",
    "DISPLAY_RANGES = [\n",
    "    [500, 15000],\n",
    "    [100, 10000],\n",
    "    [100, 20000],\n",
    "    [100, 8000],\n",
    "    [100, 6000]\n",
    "]"
   ],
   "metadata": {
    "collapsed": false,
    "pycharm": {
     "name": "#%%\n"
    }
   }
  },
  {
   "cell_type": "code",
   "execution_count": null,
   "outputs": [],
   "source": [
    "barcodes = pd.read_csv('design.csv').drop(columns=\"sgRNA\") # list of barcodes along with which gene they target\n",
    "barcodes[\"barcode\"] = barcodes[\"barcode\"].apply(lambda x: x[:CYCLES])\n",
    "barcode_set = set(barcodes[\"barcode\"])"
   ],
   "metadata": {
    "collapsed": false,
    "pycharm": {
     "name": "#%%\n"
    }
   }
  },
  {
   "cell_type": "code",
   "execution_count": 115,
   "outputs": [
    {
     "name": "stdout",
     "output_type": "stream",
     "text": [
      "11\n",
      "['data/10x_Cycle1_Well3_Point3_0001_ChannelDAPI,G-ISS,T-ISS,A-ISS,C-ISS_Seq0785.ome.tif', 'data/10x_Cycle2_Well3_Point3_0001_ChannelDAPI,G-ISS,T-ISS,A-ISS,C-ISS_Seq0785.ome.tif', 'data/10x_Cycle3_Well3_Point3_0001_ChannelDAPI,G-ISS,T-ISS,A-ISS,C-ISS_Seq0785.ome.tif', 'data/10x_Cycle4_Well3_Point3_0001_ChannelDAPI,G-ISS,T-ISS,A-ISS,C-ISS_Seq0785.ome.tif', 'data/10x_Cycle5_Well3_Point3_0001_ChannelDAPI,G-ISS,T-ISS,A-ISS,C-ISS_Seq0785.ome.tif', 'data/10x_Cycle6_Well3_Point3_0001_ChannelDAPI,G-ISS,T-ISS,A-ISS,C-ISS_Seq0785.ome.tif', 'data/10x_Cycle7_Well3_Point3_0001_ChannelDAPI,G-ISS,T-ISS,A-ISS,C-ISS_Seq0785.ome.tif', 'data/10x_Cycle8_Well3_Point3_0001_ChannelDAPI,G-ISS,T-ISS,A-ISS,C-ISS_Seq0393.ome.tif', 'data/10x_Cycle9_Well3_Point3_0001_ChannelDAPI,G-ISS,T-ISS,A-ISS,C-ISS_Seq0785.ome.tif', 'data/10x_Cycle10_Well3_Point3_0001_ChannelDAPI,G-ISS,T-ISS,A-ISS,C-ISS_Seq0785.ome.tif', 'data/10x_Cycle11_Well3_Point3_0001_ChannelDAPI,G-ISS,T-ISS,A-ISS,C-ISS_Seq0785.ome.tif']\n"
     ]
    }
   ],
   "source": [
    "# find sbs images and print paths\n",
    "search = f'data/10x_Cycle*_Well{WILDCARDS[\"well\"]}_Point3_{str(WILDCARDS[\"tile\"]).rjust(4, \"0\")}*.ome.tif'\n",
    "input_files = natsorted(glob(search))\n",
    "print(len(input_files))\n",
    "print(input_files)\n",
    "# used to format output filenames\n",
    "description = {'mag': \"10X\", \"well\": WILDCARDS[\"well\"], 'tile': WILDCARDS['tile'], 'subdir': f'process_ipynb/tile{WILDCARDS[\"tile\"]}', 'ext': 'tif'}"
   ],
   "metadata": {
    "collapsed": false,
    "pycharm": {
     "name": "#%%\n"
    }
   }
  },
  {
   "cell_type": "code",
   "execution_count": 116,
   "outputs": [],
   "source": [
    "data = np.array([read(f) for f in input_files])"
   ],
   "metadata": {
    "collapsed": false,
    "pycharm": {
     "name": "#%%\n"
    }
   }
  },
  {
   "cell_type": "code",
   "execution_count": 117,
   "outputs": [],
   "source": [
    "aligned, x_offsets, y_offsets = Snake._align_SBS(data, method=\"SBS_mean\") # rigid alignment of sequencing cycles and channels.\n",
    "# save(name(description, tag='aligned'), aligned, display_ranges=DISPLAY_RANGES, luts=LUTS)"
   ],
   "metadata": {
    "collapsed": false,
    "pycharm": {
     "name": "#%%\n"
    }
   }
  },
  {
   "cell_type": "code",
   "execution_count": 118,
   "outputs": [],
   "source": [
    "data = data[:, :, abs(x_offsets[0]):-x_offsets[-1], abs(y_offsets[0]):-y_offsets[-1]] # change shape of data array to match aligned image"
   ],
   "metadata": {
    "collapsed": false,
    "pycharm": {
     "name": "#%%\n"
    }
   }
  },
  {
   "cell_type": "code",
   "execution_count": 119,
   "outputs": [],
   "source": [
    "loged = Snake._transform_log(aligned, skip_index=0) # apply Laplacian-of-Gaussian filter from scipy.ndimage.\n",
    "# save(name(description, tag='log'), loged, display_ranges=DISPLAY_RANGES, luts=LUTS)"
   ],
   "metadata": {
    "collapsed": false,
    "pycharm": {
     "name": "#%%\n"
    }
   }
  },
  {
   "cell_type": "code",
   "execution_count": 120,
   "outputs": [],
   "source": [
    "maxed = Snake._max_filter(loged, 3, remove_index=0) # apply a maximum filter in a window of `width`. Conventionally operates on Laplacian-of-Gaussian filtered SBS data, dilating sequencing channels to compensate for single-pixel alignment error.\n",
    "save(name(description, tag='maxed'), maxed, display_ranges=DISPLAY_RANGES[1:], luts=LUTS[1:])"
   ],
   "metadata": {
    "collapsed": false,
    "pycharm": {
     "name": "#%%\n"
    }
   }
  },
  {
   "cell_type": "markdown",
   "source": [],
   "metadata": {
    "collapsed": false,
    "pycharm": {
     "name": "#%% md\n"
    }
   }
  },
  {
   "cell_type": "code",
   "execution_count": 121,
   "outputs": [],
   "source": [
    "std = Snake._compute_std(loged, remove_index=0) # use standard deviation over cycles, followed by mean across channels to estimate sequencing read locations.\n",
    "# save(name(description, tag='std'), std)"
   ],
   "metadata": {
    "collapsed": false,
    "pycharm": {
     "name": "#%%\n"
    }
   }
  },
  {
   "cell_type": "code",
   "execution_count": 122,
   "outputs": [],
   "source": [
    "peaks = Snake._find_peaks(std) # where are the spots\n",
    "# save(name(description, tag='peaks'), peaks)"
   ],
   "metadata": {
    "collapsed": false,
    "pycharm": {
     "name": "#%%\n"
    }
   }
  },
  {
   "cell_type": "markdown",
   "source": [
    "### segment nuclei and cells"
   ],
   "metadata": {
    "collapsed": false,
    "pycharm": {
     "name": "#%% md\n"
    }
   }
  },
  {
   "cell_type": "code",
   "execution_count": 123,
   "outputs": [],
   "source": [
    "# Find nuclei from DAPI (fluorescent stain)\n",
    "# change first argument if DAPI staining is only done for a certain cycle, eg. 11th cycle would be data[10]\n",
    "nuclei = Snake._segment_nuclei(data[0], THRESHOLD_DAPI,\n",
    " area_min=NUCLEUS_AREA[0], area_max=NUCLEUS_AREA[1])\n",
    "\n",
    "save(name(description, tag='nuclei'), nuclei, compress=1)"
   ],
   "metadata": {
    "collapsed": false,
    "pycharm": {
     "name": "#%%\n"
    }
   }
  },
  {
   "cell_type": "code",
   "execution_count": 124,
   "outputs": [],
   "source": [
    "cells = Snake._segment_cells(data[0], nuclei, THRESHOLD_CELL) # Matches cell labels to nuclei labels.\n",
    "# save(name(description, tag='cells'), cells, compress=1)"
   ],
   "metadata": {
    "collapsed": false,
    "pycharm": {
     "name": "#%%\n"
    }
   }
  },
  {
   "cell_type": "markdown",
   "source": [
    "### extract base intensity, call reads, assign to cells"
   ],
   "metadata": {
    "collapsed": false,
    "pycharm": {
     "name": "#%% md\n"
    }
   }
  },
  {
   "cell_type": "code",
   "execution_count": 125,
   "outputs": [],
   "source": [
    "# Find the signal intensity from `maxed` at each point in `peaks` above `threshold_peaks`.\n",
    "df_bases = Snake._extract_bases(maxed, peaks, cells,\n",
    "                        THRESHOLD_READS, wildcards=WILDCARDS)\n",
    "df_bases.to_csv(name(description, tag='bases', ext='csv'), index=None)"
   ],
   "metadata": {
    "collapsed": false,
    "pycharm": {
     "name": "#%%\n"
    }
   }
  },
  {
   "cell_type": "code",
   "execution_count": 126,
   "outputs": [],
   "source": [
    "df_reads = Snake._call_reads(df_bases, peaks=peaks) # call reads by compensating for channel cross-talk and calling the base with the highest corrected intensity for each cycle. Q = quality?\n",
    "filename = name(description, tag='reads', ext='csv')\n",
    "df_reads.to_csv(filename, index=None)"
   ],
   "metadata": {
    "collapsed": false,
    "pycharm": {
     "name": "#%%\n"
    }
   }
  },
  {
   "cell_type": "code",
   "execution_count": 127,
   "outputs": [],
   "source": [
    "# read from csv to match numerical precision of snakemake pipeline\n",
    "df_reads = pd.read_csv(filename) \n",
    "df_cells = Snake._call_cells(df_reads) # gets the two most-common barcode reads for each cell.\n",
    "df_cells.to_csv(name(description, tag='cells', ext='csv'), index=None)"
   ],
   "metadata": {
    "collapsed": false,
    "pycharm": {
     "name": "#%%\n"
    }
   }
  },
  {
   "cell_type": "markdown",
   "metadata": {
    "pycharm": {
     "name": "#%% md\n"
    }
   },
   "source": [
    "### annotated SBS images"
   ]
  },
  {
   "cell_type": "code",
   "execution_count": 128,
   "outputs": [],
   "source": [
    "# last channel annotates base calls\n",
    "annotate_luts = LUTS + [ops.annotate.GRMC, ops.io.GRAY]\n",
    "annotate_display_ranges = [(a / 4, b / 4) for a,b in DISPLAY_RANGES] + [(0, 4)]\n",
    "annotate_SBS = Snake._annotate_SBS(log=loged, df_reads=df_reads)\n",
    "\n",
    "save(name(description, tag='annotate_SBS'), annotate_SBS,\n",
    "     display_ranges=annotate_display_ranges, luts=annotate_luts, compress=1)"
   ],
   "metadata": {
    "collapsed": false,
    "pycharm": {
     "name": "#%%\n"
    }
   }
  },
  {
   "cell_type": "markdown",
   "source": [
    "### further analysis :)"
   ],
   "metadata": {
    "collapsed": false,
    "pycharm": {
     "name": "#%% md\n"
    }
   }
  },
  {
   "cell_type": "code",
   "execution_count": 129,
   "outputs": [],
   "source": [
    "from collections import defaultdict"
   ],
   "metadata": {
    "collapsed": false,
    "pycharm": {
     "name": "#%%\n"
    }
   }
  },
  {
   "cell_type": "code",
   "execution_count": 133,
   "outputs": [
    {
     "name": "stdout",
     "output_type": "stream",
     "text": [
      "[('GGGCCAAGAAT', 16), ('GTCCAATTTTC', 10), ('CTCAACCACTT', 9), ('TTAGCCGGATG', 9), ('TCACAGTTTTC', 7), ('AGCTTACAATA', 7), ('TCTTTCCAACT', 6), ('GTTGCCAGCTT', 6), ('TGATCTCCCAT', 6), ('ACCATTAGGCC', 6), ('AGCCTGACCTT', 6), ('GTGATTCCTTC', 6), ('GGGCATGAGAT', 6), ('AACATGGCACT', 6), ('GAAGAAGGATG', 6), ('GACCCCTAGAT', 5), ('AGAGAATTCTG', 5), ('GCTAGTACCCA', 5), ('GAACCACCACC', 5), ('TCTAGCTGAGT', 4), ('GCTTCAAGTAT', 4), ('ATAATAGCATT', 4), ('CCAATCAGTGC', 4), ('ACTACAGTCCA', 3), ('TTGACATTGCC', 3), ('CGTCTAGGAGG', 3), ('CGCCTGCGCAC', 3), ('CTCCCCGACTA', 3), ('TAGTCTACATG', 3), ('TTCTCTATGTA', 3), ('GGTCGTGGGTC', 2), ('GGGCTTCTGCT', 2), ('TCTAATAGTAT', 2), ('CAGAGTAATAT', 2), ('GAGAAAAAGAA', 2), ('CAGCAGAAGTG', 2), ('GGAATGGGAAG', 2), ('TTCACCGTCCA', 2), ('TGTCGACAAAT', 2), ('CTCAAACTTAT', 2), ('GTTGATCGAAA', 2), ('CTGTAAACTGA', 1), ('GCATCACTAAA', 1), ('AGAAAAAATGT', 1), ('CAACATGCCGA', 1), ('GCAACAGAGCC', 1), ('GTTGGGTGGCA', 1), ('ACAAACAATCT', 1), ('AACAACCACCC', 1), ('CCCACACCCCC', 1), ('AGCCCCTCCTT', 1), ('CCGACCAAAAA', 1), ('CTGAGCAGGAC', 1), ('GTGCCACAAAC', 1), ('ATAACAGTGGG', 1), ('GTTCACCAACA', 1), ('AGGATGCTGAA', 1), ('GGGGGGAATCA', 1), ('CACGAACTCAC', 1), ('AGGCAAAAAAA', 1), ('GAGGCACAGAC', 1), ('GTATATCCTCT', 1), ('CCAAAAAATAA', 1), ('TTGAGGGGGAG', 1), ('TTGCCTCACCC', 1), ('TCCTCACGCAT', 1), ('GGGTGAATAAT', 1), ('TTGCTAGGGAA', 1), ('GGTACTTGTGC', 1), ('TCAGTTAAAAA', 1), ('CAATGAAAGTG', 1), ('GGGAAAGGGAC', 1), ('GTACTTCATGA', 1), ('AACCGAGCTCT', 1), ('AACAGGAGAGA', 1), ('CGTCTGTTCAG', 1), ('TGCTCAGAGAT', 1), ('AAGTAAAAACT', 1), ('TGGACAGTGCC', 1), ('GAGGAGCTTGA', 1), ('CGCCACCCCGC', 1), ('TGCTTTTCATG', 1), ('TCCCCCCACCC', 1), ('TCTATTTGAAA', 1)]\n"
     ]
    }
   ],
   "source": [
    "barcodes = defaultdict(int)\n",
    "\n",
    "for index, row in df_cells.iterrows():\n",
    "    b0 = row[\"cell_barcode_0\"]\n",
    "    b1 = row[\"cell_barcode_1\"]\n",
    "    if b0 in barcode_set: # lots of messed up reads...\n",
    "        barcodes[b0] += row[\"cell_barcode_count_0\"]\n",
    "    if b1 in barcode_set:\n",
    "        barcodes[b1] += int(row[\"cell_barcode_count_1\"])\n",
    "\n",
    "print(sorted(barcodes.items(), key=lambda x: x[1], reverse=True))"
   ],
   "metadata": {
    "collapsed": false,
    "pycharm": {
     "name": "#%%\n"
    }
   }
  },
  {
   "cell_type": "code",
   "execution_count": null,
   "outputs": [],
   "source": [],
   "metadata": {
    "collapsed": false,
    "pycharm": {
     "name": "#%%\n"
    }
   }
  }
 ],
 "metadata": {
  "kernelspec": {
   "display_name": "Python 3",
   "language": "python",
   "name": "python3"
  },
  "language_info": {
   "codemirror_mode": {
    "name": "ipython",
    "version": 3
   },
   "file_extension": ".py",
   "mimetype": "text/x-python",
   "name": "python",
   "nbconvert_exporter": "python",
   "pygments_lexer": "ipython3",
   "version": "3.7.6"
  }
 },
 "nbformat": 4,
 "nbformat_minor": 2
}