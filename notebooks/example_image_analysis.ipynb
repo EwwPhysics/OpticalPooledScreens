{
 "cells": [
  {
   "cell_type": "code",
   "execution_count": 24,
   "metadata": {
    "pycharm": {
     "name": "#%%\n"
    }
   },
   "outputs": [
    {
     "name": "stdout",
     "output_type": "stream",
     "text": [
      "/Users/sasha/PycharmProjects/OpticalPooledScreens/projects/example\n"
     ]
    }
   ],
   "source": [
    "import ops\n",
    "from ops.imports_ipython import *\n",
    "\n",
    "# runs example from repository directory\n",
    "home = os.path.dirname(os.path.dirname(ops.__file__))\n",
    "os.chdir(os.path.join(home, 'projects', 'example'))\n",
    "print(os.getcwd())"
   ]
  },
  {
   "cell_type": "code",
   "execution_count": 25,
   "outputs": [],
   "source": [
    "# image processing thresholds and expected values\n",
    "THRESHOLD_READS = 50\n",
    "THRESHOLD_DAPI = 200\n",
    "THRESHOLD_CELL = 600\n",
    "NUCLEUS_AREA = 40, 400\n",
    "\n",
    "WILDCARDS = dict(well='A1', tile=107) # change these to change the well and tile that you want to analyze\n",
    "\n",
    "SBS_CYCLES = range(1, 13) # should be 1 to n + 1 where n = number of cycles\n",
    "\n",
    "# color of bases\n",
    "# lut = \"lookup table\", used to map one color to another like a filter\n",
    "LUTS = [\n",
    "    ops.io.GRAY,\n",
    "    ops.io.GREEN,\n",
    "    ops.io.RED,\n",
    "    ops.io.MAGENTA,\n",
    "    ops.io.CYAN\n",
    "]\n",
    "\n",
    "# for formatting tif images when they are saved?\n",
    "DISPLAY_RANGES = [\n",
    "    [500, 15000],\n",
    "    [100, 10000],\n",
    "    [100, 20000],\n",
    "    [100, 8000],\n",
    "    [100, 6000]\n",
    "]"
   ],
   "metadata": {
    "collapsed": false,
    "pycharm": {
     "name": "#%%\n"
    }
   }
  },
  {
   "cell_type": "code",
   "execution_count": 26,
   "outputs": [
    {
     "name": "stdout",
     "output_type": "stream",
     "text": [
      "['experimentC/input/10X_c1-SBS-1/10X_c1-SBS-1_A1_Tile-107.tif', 'experimentC/input/10X_c2-SBS-2/10X_c2-SBS-2_A1_Tile-107.tif', 'experimentC/input/10X_c3-SBS-3/10X_c3-SBS-3_A1_Tile-107.tif', 'experimentC/input/10X_c4-SBS-4/10X_c4-SBS-4_A1_Tile-107.tif', 'experimentC/input/10X_c5-SBS-5/10X_c5-SBS-5_A1_Tile-107.tif', 'experimentC/input/10X_c6-SBS-6/10X_c6-SBS-6_A1_Tile-107.tif', 'experimentC/input/10X_c7-SBS-7/10X_c7-SBS-7_A1_Tile-107.tif', 'experimentC/input/10X_c8-SBS-8/10X_c8-SBS-8_A1_Tile-107.tif', 'experimentC/input/10X_c9-SBS-9/10X_c9-SBS-9_A1_Tile-107.tif', 'experimentC/input/10X_c10-SBS-10/10X_c10-SBS-10_A1_Tile-107.tif', 'experimentC/input/10X_c11-SBS-11/10X_c11-SBS-11_A1_Tile-107.tif', 'experimentC/input/10X_c12-SBS-12/10X_c12-SBS-12_A1_Tile-107.tif']\n"
     ]
    },
    {
     "data": {
      "text/plain": "'c1-SBS-1'"
     },
     "execution_count": 26,
     "metadata": {},
     "output_type": "execute_result"
    }
   ],
   "source": [
    "# find sbs images and print paths\n",
    "search = 'experimentC/input/*/10X*{well}_Tile-{tile}.tif'.format(**WILDCARDS)\n",
    "\n",
    "input_files = natsorted(glob(search))\n",
    "print(input_files)\n",
    "# used to format output filenames\n",
    "description = parse(input_files[0])\n",
    "description['subdir'] = 'experimentC/process_ipynb'\n",
    "description.pop('cycle')"
   ],
   "metadata": {
    "collapsed": false,
    "pycharm": {
     "name": "#%%\n"
    }
   }
  },
  {
   "cell_type": "code",
   "execution_count": 28,
   "outputs": [],
   "source": [
    "data = np.array([read(f) for f in input_files])\n",
    "aligned, x_offsets, y_offsets = Snake._align_SBS(data, method=\"SBS_mean\") # rigid alignment of sequencing cycles and channels.\n",
    "data = data[:, :, abs(x_offsets[0]):-x_offsets[-1], abs(y_offsets[0]):-y_offsets[-1]] # change shape of data array to match aligned image\n",
    "save(name(description, tag='aligned'), aligned, display_ranges=DISPLAY_RANGES, luts=LUTS)"
   ],
   "metadata": {
    "collapsed": false,
    "pycharm": {
     "name": "#%%\n"
    }
   }
  },
  {
   "cell_type": "code",
   "execution_count": 29,
   "outputs": [],
   "source": [
    "loged = Snake._transform_log(aligned, skip_index=0) # apply Laplacian-of-Gaussian filter from scipy.ndimage.\n",
    "save(name(description, tag='log'), loged, display_ranges=DISPLAY_RANGES, luts=LUTS)"
   ],
   "metadata": {
    "collapsed": false,
    "pycharm": {
     "name": "#%%\n"
    }
   }
  },
  {
   "cell_type": "code",
   "execution_count": 30,
   "outputs": [],
   "source": [
    "maxed = Snake._max_filter(loged, 3, remove_index=0) # apply a maximum filter in a window of `width`. Conventionally operates on Laplacian-of-Gaussian filtered SBS data, dilating sequencing channels to compensate for single-pixel alignment error.\n",
    "save(name(description, tag='maxed'), maxed, display_ranges=DISPLAY_RANGES[1:], luts=LUTS[1:])"
   ],
   "metadata": {
    "collapsed": false,
    "pycharm": {
     "name": "#%%\n"
    }
   }
  },
  {
   "cell_type": "markdown",
   "source": [],
   "metadata": {
    "collapsed": false,
    "pycharm": {
     "name": "#%% md\n"
    }
   }
  },
  {
   "cell_type": "code",
   "execution_count": 31,
   "outputs": [],
   "source": [
    "std = Snake._compute_std(loged, remove_index=0) # use standard deviation over cycles, followed by mean across channels to estimate sequencing read locations.\n",
    "save(name(description, tag='std'), std)"
   ],
   "metadata": {
    "collapsed": false,
    "pycharm": {
     "name": "#%%\n"
    }
   }
  },
  {
   "cell_type": "code",
   "execution_count": 32,
   "outputs": [],
   "source": [
    "peaks = Snake._find_peaks(std) # where are the spots\n",
    "save(name(description, tag='peaks'), peaks)"
   ],
   "metadata": {
    "collapsed": false,
    "pycharm": {
     "name": "#%%\n"
    }
   }
  },
  {
   "cell_type": "markdown",
   "source": [
    "### segment nuclei and cells"
   ],
   "metadata": {
    "collapsed": false,
    "pycharm": {
     "name": "#%% md\n"
    }
   }
  },
  {
   "cell_type": "code",
   "execution_count": 33,
   "outputs": [],
   "source": [
    "# Find nuclei from DAPI (fluorescent stain)\n",
    "nuclei = Snake._segment_nuclei(data[0], THRESHOLD_DAPI,\n",
    " area_min=NUCLEUS_AREA[0], area_max=NUCLEUS_AREA[1])\n",
    "\n",
    "save(name(description, tag='nuclei'), nuclei, compress=1)"
   ],
   "metadata": {
    "collapsed": false,
    "pycharm": {
     "name": "#%%\n"
    }
   }
  },
  {
   "cell_type": "code",
   "execution_count": 34,
   "outputs": [],
   "source": [
    "cells = Snake._segment_cells(data[0], nuclei, THRESHOLD_CELL) # Matches cell labels to nuclei labels.\n",
    "save(name(description, tag='cells'), cells, compress=1)"
   ],
   "metadata": {
    "collapsed": false,
    "pycharm": {
     "name": "#%%\n"
    }
   }
  },
  {
   "cell_type": "markdown",
   "source": [
    "### extract base intensity, call reads, assign to cells"
   ],
   "metadata": {
    "collapsed": false,
    "pycharm": {
     "name": "#%% md\n"
    }
   }
  },
  {
   "cell_type": "code",
   "execution_count": 35,
   "outputs": [
    {
     "name": "stdout",
     "output_type": "stream",
     "text": [
      "         read  cycle channel  intensity  cell    i    j  tile well\n",
      "0           0      1       A        653     0    5   81   107   A1\n",
      "1           0      1       C        431     0    5   81   107   A1\n",
      "2           0      1       G         28     0    5   81   107   A1\n",
      "3           0      1       T         16     0    5   81   107   A1\n",
      "4           0      2       A         10     0    5   81   107   A1\n",
      "...       ...    ...     ...        ...   ...  ...  ...   ...  ...\n",
      "730699  15222     11       T         98  3457  986  859   107   A1\n",
      "730700  15222     12       A        323  3457  986  859   107   A1\n",
      "730701  15222     12       C        231  3457  986  859   107   A1\n",
      "730702  15222     12       G         79  3457  986  859   107   A1\n",
      "730703  15222     12       T         73  3457  986  859   107   A1\n",
      "\n",
      "[736080 rows x 9 columns]\n"
     ]
    }
   ],
   "source": [
    "# Find the signal intensity from `maxed` at each point in `peaks` above `threshold_peaks`.\n",
    "df_bases = Snake._extract_bases(maxed, peaks, cells,\n",
    "                        THRESHOLD_READS, wildcards=WILDCARDS)\n",
    "print(df_bases)\n",
    "df_bases.to_csv(name(description, tag='bases', ext='csv'), index=None)"
   ],
   "metadata": {
    "collapsed": false,
    "pycharm": {
     "name": "#%%\n"
    }
   }
  },
  {
   "cell_type": "code",
   "execution_count": 36,
   "outputs": [],
   "source": [
    "df_reads = Snake._call_reads(df_bases, peaks=peaks) # call reads by compensating for channel cross-talk and calling the base with the highest corrected intensity for each cycle. Q = quality?\n",
    "filename = name(description, tag='reads', ext='csv')\n",
    "df_reads.to_csv(filename, index=None)"
   ],
   "metadata": {
    "collapsed": false,
    "pycharm": {
     "name": "#%%\n"
    }
   }
  },
  {
   "cell_type": "code",
   "execution_count": 37,
   "outputs": [],
   "source": [
    "# read from csv to match numerical precision of snakemake pipeline\n",
    "df_reads = pd.read_csv(filename) \n",
    "df_cells = Snake._call_cells(df_reads) # gets the two most-common barcode reads for each cell.\n",
    "df_cells.to_csv(name(description, tag='cells', ext='csv'), index=None)"
   ],
   "metadata": {
    "collapsed": false,
    "pycharm": {
     "name": "#%%\n"
    }
   }
  },
  {
   "cell_type": "markdown",
   "metadata": {
    "pycharm": {
     "name": "#%% md\n"
    }
   },
   "source": [
    "### annotated SBS images"
   ]
  },
  {
   "cell_type": "code",
   "execution_count": 38,
   "outputs": [],
   "source": [
    "# last channel annotates base calls\n",
    "annotate_luts = LUTS + [ops.annotate.GRMC, ops.io.GRAY]\n",
    "annotate_display_ranges = [(a / 4, b / 4) for a,b in DISPLAY_RANGES] + [(0, 4)]\n",
    "annotate_SBS = Snake._annotate_SBS(log=loged, df_reads=df_reads)\n",
    "\n",
    "save(name(description, tag='annotate_SBS'), annotate_SBS,\n",
    "     display_ranges=annotate_display_ranges, luts=annotate_luts, compress=1)"
   ],
   "metadata": {
    "collapsed": false,
    "pycharm": {
     "name": "#%%\n"
    }
   }
  },
  {
   "cell_type": "code",
   "execution_count": null,
   "outputs": [],
   "source": [],
   "metadata": {
    "collapsed": false,
    "pycharm": {
     "name": "#%%\n"
    }
   }
  }
 ],
 "metadata": {
  "kernelspec": {
   "display_name": "Python 3",
   "language": "python",
   "name": "python3"
  },
  "language_info": {
   "codemirror_mode": {
    "name": "ipython",
    "version": 3
   },
   "file_extension": ".py",
   "mimetype": "text/x-python",
   "name": "python",
   "nbconvert_exporter": "python",
   "pygments_lexer": "ipython3",
   "version": "3.7.6"
  }
 },
 "nbformat": 4,
 "nbformat_minor": 2
}