{
 "cells": [
  {
   "cell_type": "markdown",
   "metadata": {
    "pycharm": {
     "name": "#%% md\n"
    }
   },
   "source": [
    "**This notebook runs the individual steps of the provided Snakemake pipeline. This may be useful for understanding the functions, but it is highly recommended to use Snakemake to run the pipeline on screening data.**"
   ]
  },
  {
   "cell_type": "code",
   "execution_count": 12,
   "metadata": {
    "pycharm": {
     "name": "#%%\n"
    }
   },
   "outputs": [],
   "source": [
    "import ops\n",
    "from ops.imports_ipython import *\n",
    "from ops.paper.cell_idr import setup_example\n",
    "\n",
    "# runs example from repository directory\n",
    "home = os.path.dirname(os.path.dirname(ops.__file__))\n",
    "os.chdir(home)"
   ]
  },
  {
   "cell_type": "code",
   "execution_count": 13,
   "metadata": {
    "pycharm": {
     "name": "#%%\n"
    }
   },
   "outputs": [
    {
     "data": {
      "text/plain": "'/Users/sasha/PycharmProjects/OpticalPooledScreens/example'"
     },
     "execution_count": 13,
     "metadata": {},
     "output_type": "execute_result"
    }
   ],
   "source": [
    "os.chdir(os.path.join(home, 'example'))\n",
    "os.path.join(home, 'example')"
   ]
  },
  {
   "cell_type": "code",
   "execution_count": 14,
   "metadata": {
    "scrolled": true,
    "pycharm": {
     "name": "#%%\n"
    }
   },
   "outputs": [],
   "source": [
    "barcodes = pd.read_csv('barcodes.csv')\n",
    "\n",
    "THRESHOLD_READS = 50\n",
    "THRESHOLD_DAPI = 200\n",
    "THRESHOLD_CELL = 600\n",
    "NUCLEUS_AREA = 40, 400\n",
    "WILDCARDS = dict(well='A1', tile=107)\n",
    "\n",
    "SBS_CYCLES = [1, 2, 3, 4, 5, 7, 8, 9, 10, 11, 12]\n",
    "\n",
    "LUTS = [\n",
    "    ops.io.GRAY,\n",
    "    ops.io.GREEN,\n",
    "    ops.io.RED,\n",
    "    ops.io.MAGENTA,\n",
    "    ops.io.CYAN\n",
    "]\n",
    "\n",
    "DISPLAY_RANGES = [\n",
    "    [500, 15000],\n",
    "    [100, 10000],\n",
    "    [100, 20000],\n",
    "    [100, 8000],\n",
    "    [100, 6000]\n",
    "]"
   ]
  },
  {
   "cell_type": "code",
   "execution_count": 15,
   "metadata": {
    "scrolled": true,
    "pycharm": {
     "name": "#%%\n"
    }
   },
   "outputs": [
    {
     "name": "stdout",
     "output_type": "stream",
     "text": [
      "experimentC/input/10X_c1-SBS-1/10X_c1-SBS-1_A1_Tile-107.tif\n",
      "experimentC/input/10X_c2-SBS-2/10X_c2-SBS-2_A1_Tile-107.tif\n",
      "experimentC/input/10X_c3-SBS-3/10X_c3-SBS-3_A1_Tile-107.tif\n",
      "experimentC/input/10X_c4-SBS-4/10X_c4-SBS-4_A1_Tile-107.tif\n",
      "experimentC/input/10X_c5-SBS-5/10X_c5-SBS-5_A1_Tile-107.tif\n",
      "experimentC/input/10X_c6-SBS-6/10X_c6-SBS-6_A1_Tile-107.tif\n",
      "experimentC/input/10X_c7-SBS-7/10X_c7-SBS-7_A1_Tile-107.tif\n",
      "experimentC/input/10X_c8-SBS-8/10X_c8-SBS-8_A1_Tile-107.tif\n",
      "experimentC/input/10X_c9-SBS-9/10X_c9-SBS-9_A1_Tile-107.tif\n",
      "experimentC/input/10X_c10-SBS-10/10X_c10-SBS-10_A1_Tile-107.tif\n",
      "experimentC/input/10X_c11-SBS-11/10X_c11-SBS-11_A1_Tile-107.tif\n",
      "experimentC/input/10X_c12-SBS-12/10X_c12-SBS-12_A1_Tile-107.tif\n"
     ]
    }
   ],
   "source": [
    "search = 'experimentC/input/*/10X*{well}_Tile-{tile}.tif'.format(**WILDCARDS)\n",
    "input_files = natsorted(glob(search))\n",
    "for f in input_files:\n",
    "    print(f)\n",
    "\n",
    "# used to format output filenames\n",
    "description = parse(input_files[0])\n",
    "description['subdir'] = 'experimentC/process_ipynb'\n",
    "description.pop('cycle');"
   ]
  },
  {
   "cell_type": "code",
   "execution_count": 73,
   "metadata": {
    "pycharm": {
     "name": "#%%\n"
    }
   },
   "outputs": [
    {
     "name": "stdout",
     "output_type": "stream",
     "text": [
      "experimentC/input/stuff/10X_c0-DAPI-p65ab_A1_Tile-102.phenotype.tif\n"
     ]
    }
   ],
   "source": [
    "# ph_search = 'experimentC/input/*/10X*{well}_Tile-{tile}.phenotype.tif'.format(**WILDCARDS)\n",
    "# ph_input_files = natsorted(glob(ph_search))\n",
    "# for f in ph_input_files:\n",
    "#     print(f)"
   ]
  },
  {
   "cell_type": "code",
   "execution_count": 16,
   "metadata": {
    "pycharm": {
     "name": "#%%\n"
    }
   },
   "outputs": [],
   "source": [
    "data = np.array([read(f) for f in input_files])\n",
    "aligned = Snake._align_SBS(data)\n",
    "save(name(description, tag='aligned'), aligned, display_ranges=DISPLAY_RANGES, luts=LUTS)"
   ]
  },
  {
   "cell_type": "code",
   "execution_count": 75,
   "metadata": {
    "pycharm": {
     "name": "#%%\n"
    }
   },
   "outputs": [
    {
     "ename": "IndexError",
     "evalue": "Must provide at least 1488 luts and display ranges",
     "output_type": "error",
     "traceback": [
      "\u001B[0;31m---------------------------------------------------------------------------\u001B[0m",
      "\u001B[0;31mIndexError\u001B[0m                                Traceback (most recent call last)",
      "Input \u001B[0;32mIn [75]\u001B[0m, in \u001B[0;36m<cell line: 3>\u001B[0;34m()\u001B[0m\n\u001B[1;32m      1\u001B[0m ph_data \u001B[38;5;241m=\u001B[39m read(ph_input_files[\u001B[38;5;241m0\u001B[39m])\n\u001B[1;32m      2\u001B[0m ph_aligned \u001B[38;5;241m=\u001B[39m Snake\u001B[38;5;241m.\u001B[39m_align_by_DAPI(data_1\u001B[38;5;241m=\u001B[39mdata[\u001B[38;5;241m0\u001B[39m], data_2\u001B[38;5;241m=\u001B[39mph_data)\n\u001B[0;32m----> 3\u001B[0m \u001B[43msave\u001B[49m\u001B[43m(\u001B[49m\u001B[43mname\u001B[49m\u001B[43m(\u001B[49m\u001B[43mdescription\u001B[49m\u001B[43m,\u001B[49m\u001B[43m \u001B[49m\u001B[43mtag\u001B[49m\u001B[38;5;241;43m=\u001B[39;49m\u001B[38;5;124;43m'\u001B[39;49m\u001B[38;5;124;43mphenotype_aligned\u001B[39;49m\u001B[38;5;124;43m'\u001B[39;49m\u001B[43m)\u001B[49m\u001B[43m,\u001B[49m\u001B[43mph_aligned\u001B[49m\u001B[43m,\u001B[49m\u001B[43m \u001B[49m\u001B[43mdisplay_ranges\u001B[49m\u001B[38;5;241;43m=\u001B[39;49m\u001B[43mDISPLAY_RANGES\u001B[49m\u001B[43m,\u001B[49m\u001B[43m \u001B[49m\u001B[43mluts\u001B[49m\u001B[38;5;241;43m=\u001B[39;49m\u001B[43mLUTS\u001B[49m\u001B[43m)\u001B[49m\n",
      "File \u001B[0;32m~/PycharmProjects/OpticalPooledScreens/ops/io.py:156\u001B[0m, in \u001B[0;36msave_stack\u001B[0;34m(name, data, luts, display_ranges, resolution, compress, dimensions, display_mode)\u001B[0m\n\u001B[1;32m    153\u001B[0m \u001B[38;5;28;01melse\u001B[39;00m:\n\u001B[1;32m    154\u001B[0m     \u001B[38;5;66;03m# hyperstack description\u001B[39;00m\n\u001B[1;32m    155\u001B[0m     nchannels \u001B[38;5;241m=\u001B[39m data\u001B[38;5;241m.\u001B[39mshape[\u001B[38;5;241m-\u001B[39m\u001B[38;5;241m3\u001B[39m]\n\u001B[0;32m--> 156\u001B[0m     luts, display_ranges \u001B[38;5;241m=\u001B[39m \u001B[43minfer_luts_display_ranges\u001B[49m\u001B[43m(\u001B[49m\u001B[43mdata\u001B[49m\u001B[43m,\u001B[49m\u001B[43m \u001B[49m\u001B[43mluts\u001B[49m\u001B[43m,\u001B[49m\u001B[43m \u001B[49m\n\u001B[1;32m    157\u001B[0m \u001B[43m                                                    \u001B[49m\u001B[43mdisplay_ranges\u001B[49m\u001B[43m)\u001B[49m\n\u001B[1;32m    159\u001B[0m     leading_shape \u001B[38;5;241m=\u001B[39m data\u001B[38;5;241m.\u001B[39mshape[:\u001B[38;5;241m-\u001B[39m\u001B[38;5;241m2\u001B[39m]\n\u001B[1;32m    160\u001B[0m     \u001B[38;5;28;01mif\u001B[39;00m dimensions \u001B[38;5;129;01mis\u001B[39;00m \u001B[38;5;28;01mNone\u001B[39;00m:\n",
      "File \u001B[0;32m~/PycharmProjects/OpticalPooledScreens/ops/io.py:281\u001B[0m, in \u001B[0;36minfer_luts_display_ranges\u001B[0;34m(data, luts, display_ranges)\u001B[0m\n\u001B[1;32m    279\u001B[0m \u001B[38;5;28;01mif\u001B[39;00m \u001B[38;5;28mlen\u001B[39m(luts) \u001B[38;5;241m<\u001B[39m nchannels \u001B[38;5;129;01mor\u001B[39;00m \u001B[38;5;28mlen\u001B[39m(display_ranges) \u001B[38;5;241m<\u001B[39m nchannels:\n\u001B[1;32m    280\u001B[0m     error \u001B[38;5;241m=\u001B[39m \u001B[38;5;124m'\u001B[39m\u001B[38;5;124mMust provide at least \u001B[39m\u001B[38;5;132;01m{}\u001B[39;00m\u001B[38;5;124m luts and display ranges\u001B[39m\u001B[38;5;124m'\u001B[39m\n\u001B[0;32m--> 281\u001B[0m     \u001B[38;5;28;01mraise\u001B[39;00m \u001B[38;5;167;01mIndexError\u001B[39;00m(error\u001B[38;5;241m.\u001B[39mformat(nchannels))\n\u001B[1;32m    282\u001B[0m \u001B[38;5;28;01melse\u001B[39;00m:\n\u001B[1;32m    283\u001B[0m     luts \u001B[38;5;241m=\u001B[39m luts[:nchannels]\n",
      "\u001B[0;31mIndexError\u001B[0m: Must provide at least 1488 luts and display ranges"
     ]
    }
   ],
   "source": [
    "# ph_data = read(ph_input_files[0])\n",
    "# ph_aligned = Snake._align_by_DAPI(data_1=data[0], data_2=ph_data)\n",
    "# save(name(description, tag='phenotype_aligned'),ph_aligned, display_ranges=DISPLAY_RANGES, luts=LUTS) # luts=LUTS[:2]"
   ]
  },
  {
   "cell_type": "code",
   "execution_count": 17,
   "metadata": {
    "pycharm": {
     "name": "#%%\n"
    }
   },
   "outputs": [],
   "source": [
    "loged = Snake._transform_log(aligned, skip_index=0)\n",
    "save(name(description, tag='log'), loged, display_ranges=DISPLAY_RANGES, luts=LUTS)"
   ]
  },
  {
   "cell_type": "code",
   "execution_count": 18,
   "metadata": {
    "pycharm": {
     "name": "#%%\n"
    }
   },
   "outputs": [],
   "source": [
    "maxed = Snake._max_filter(loged, 3, remove_index=0)\n",
    "save(name(description, tag='maxed'), maxed, display_ranges=DISPLAY_RANGES[1:], luts=LUTS[1:])"
   ]
  },
  {
   "cell_type": "markdown",
   "metadata": {
    "pycharm": {
     "name": "#%% md\n"
    }
   },
   "source": [
    "### detect candidate reads"
   ]
  },
  {
   "cell_type": "code",
   "execution_count": 19,
   "metadata": {
    "pycharm": {
     "name": "#%%\n"
    }
   },
   "outputs": [],
   "source": [
    "std = Snake._compute_std(loged, remove_index=0)\n",
    "save(name(description, tag='std'), std)"
   ]
  },
  {
   "cell_type": "code",
   "execution_count": 20,
   "metadata": {
    "pycharm": {
     "name": "#%%\n"
    }
   },
   "outputs": [],
   "source": [
    "peaks = Snake._find_peaks(std)\n",
    "save(name(description, tag='peaks'), peaks)"
   ]
  },
  {
   "cell_type": "markdown",
   "metadata": {
    "pycharm": {
     "name": "#%% md\n"
    }
   },
   "source": [
    "### segment nuclei and cells"
   ]
  },
  {
   "cell_type": "code",
   "execution_count": 21,
   "metadata": {
    "pycharm": {
     "name": "#%%\n"
    }
   },
   "outputs": [],
   "source": [
    "nuclei = Snake._segment_nuclei(data[0], THRESHOLD_DAPI,\n",
    " area_min=NUCLEUS_AREA[0], area_max=NUCLEUS_AREA[1])\n",
    "\n",
    "save(name(description, tag='nuclei'), nuclei, compress=1)"
   ]
  },
  {
   "cell_type": "code",
   "execution_count": 22,
   "metadata": {
    "pycharm": {
     "name": "#%%\n"
    }
   },
   "outputs": [],
   "source": [
    "cells = Snake._segment_cells(data[0], nuclei, THRESHOLD_CELL)\n",
    "save(name(description, tag='cells'), cells, compress=1)"
   ]
  },
  {
   "cell_type": "markdown",
   "metadata": {
    "pycharm": {
     "name": "#%% md\n"
    }
   },
   "source": [
    "### extract base intensity, call reads, assign to cells"
   ]
  },
  {
   "cell_type": "code",
   "execution_count": 23,
   "metadata": {
    "code_folding": [],
    "pycharm": {
     "name": "#%%\n"
    }
   },
   "outputs": [
    {
     "name": "stdout",
     "output_type": "stream",
     "text": [
      "         read  cycle channel  intensity  cell     i    j  tile well\n",
      "0           0      1       A        653     0     5   81   107   A1\n",
      "1           0      1       C        431     0     5   81   107   A1\n",
      "2           0      1       G         28     0     5   81   107   A1\n",
      "3           0      1       T         16     0     5   81   107   A1\n",
      "4           0      2       A         17     0     5   81   107   A1\n",
      "...       ...    ...     ...        ...   ...   ...  ...   ...  ...\n",
      "800923  16685     11       T          0  3693  1014  128   107   A1\n",
      "800924  16685     12       A        666  3693  1014  128   107   A1\n",
      "800925  16685     12       C        835  3693  1014  128   107   A1\n",
      "800926  16685     12       G        472  3693  1014  128   107   A1\n",
      "800927  16685     12       T        547  3693  1014  128   107   A1\n",
      "\n",
      "[808608 rows x 9 columns]\n"
     ]
    }
   ],
   "source": [
    "df_bases = Snake._extract_bases(maxed, peaks, cells, \n",
    "                        THRESHOLD_READS, wildcards=WILDCARDS)\n",
    "print(df_bases)\n",
    "df_bases.to_csv(name(description, tag='bases', ext='csv'), index=None)"
   ]
  },
  {
   "cell_type": "code",
   "execution_count": 24,
   "metadata": {
    "pycharm": {
     "name": "#%%\n"
    }
   },
   "outputs": [],
   "source": [
    "df_reads = Snake._call_reads(df_bases, peaks=peaks)\n",
    "filename = name(description, tag='reads', ext='csv')\n",
    "df_reads.to_csv(filename, index=None)"
   ]
  },
  {
   "cell_type": "code",
   "execution_count": 25,
   "metadata": {
    "scrolled": true,
    "pycharm": {
     "name": "#%%\n"
    }
   },
   "outputs": [],
   "source": [
    "# read from csv to match numerical precision of snakemake pipeline\n",
    "df_reads = pd.read_csv(filename) \n",
    "df_cells = Snake._call_cells(df_reads)\n",
    "df_cells.to_csv(name(description, tag='cells', ext='csv'), index=None)"
   ]
  },
  {
   "cell_type": "markdown",
   "metadata": {
    "pycharm": {
     "name": "#%% md\n"
    }
   },
   "source": [
    "### extract\n",
    "enotypes and combine with called cells"
   ]
  },
  {
   "cell_type": "code",
   "execution_count": null,
   "metadata": {
    "pycharm": {
     "name": "#%%\n"
    }
   },
   "outputs": [],
   "source": [
    "df_phenotype = Snake._extract_named_cell_nucleus_features(\n",
    "    data=ph_aligned,\n",
    "    cells=cells,\n",
    "    nuclei=nuclei,\n",
    "    nucleus_features=[\n",
    "        'label', # required to join SBS and phenotype data\n",
    "        'i',\n",
    "        'j',\n",
    "        'area',\n",
    "        'dapi_gfp_corr',\n",
    "        'dapi_max',\n",
    "        'dapi_mean',\n",
    "        'dapi_median',\n",
    "        'gfp_max',\n",
    "        'gfp_mean',\n",
    "        'gfp_median',\n",
    "    ],\n",
    "    cell_features=['label', 'area'],\n",
    "    wildcards=WILDCARDS\n",
    ")\n",
    "df_phenotype.to_csv(name(description, tag='phenotype', ext='csv'), index=None)"
   ]
  },
  {
   "cell_type": "code",
   "execution_count": null,
   "metadata": {
    "pycharm": {
     "name": "#%%\n"
    }
   },
   "outputs": [],
   "source": [
    "df_combined = Snake._merge_sbs_phenotype(\n",
    "    sbs_tables=df_cells, \n",
    "    phenotype_tables=df_phenotype,\n",
    "    barcode_table=barcodes, \n",
    "    sbs_cycles=SBS_CYCLES\n",
    ")\n",
    "df_combined.to_csv(name(description, tag='combined', ext='csv'), index=None)"
   ]
  },
  {
   "cell_type": "markdown",
   "metadata": {
    "pycharm": {
     "name": "#%% md\n"
    }
   },
   "source": [
    "### annotated SBS images"
   ]
  },
  {
   "cell_type": "code",
   "execution_count": null,
   "metadata": {
    "pycharm": {
     "name": "#%%\n"
    }
   },
   "outputs": [],
   "source": [
    "# last channel annotates base calls\n",
    "annotate_luts = LUTS + [ops.annotate.GRMC, ops.io.GRAY]\n",
    "annotate_display_ranges = [(a/4, b/4) for a,b in DISPLAY_RANGES] + [[0, 4]]\n",
    "annotate_SBS = Snake._annotate_SBS(log=loged, df_reads=df_reads)\n",
    "save(name(description, tag='annotate_SBS'), annotate_SBS,\n",
    "     display_ranges=annotate_display_ranges, luts=annotate_luts, compress=1)"
   ]
  },
  {
   "cell_type": "code",
   "execution_count": 72,
   "metadata": {
    "pycharm": {
     "name": "#%%\n"
    }
   },
   "outputs": [
    {
     "ename": "NameError",
     "evalue": "name 'df_reads' is not defined",
     "output_type": "error",
     "traceback": [
      "\u001B[0;31m---------------------------------------------------------------------------\u001B[0m",
      "\u001B[0;31mNameError\u001B[0m                                 Traceback (most recent call last)",
      "Input \u001B[0;32mIn [72]\u001B[0m, in \u001B[0;36m<cell line: 8>\u001B[0;34m()\u001B[0m\n\u001B[1;32m      3\u001B[0m annotate_extra_luts \u001B[38;5;241m=\u001B[39m LUTS \u001B[38;5;241m+\u001B[39m [ops\u001B[38;5;241m.\u001B[39mannotate\u001B[38;5;241m.\u001B[39mGRMC, ops\u001B[38;5;241m.\u001B[39mio\u001B[38;5;241m.\u001B[39mGRAY, ops\u001B[38;5;241m.\u001B[39mio\u001B[38;5;241m.\u001B[39mGRAY]\n\u001B[1;32m      4\u001B[0m annotate_extra_display_ranges \u001B[38;5;241m=\u001B[39m (\n\u001B[1;32m      5\u001B[0m     [(a\u001B[38;5;241m/\u001B[39m\u001B[38;5;241m4\u001B[39m, b\u001B[38;5;241m/\u001B[39m\u001B[38;5;241m4\u001B[39m) \u001B[38;5;28;01mfor\u001B[39;00m a,b \u001B[38;5;129;01min\u001B[39;00m DISPLAY_RANGES]\n\u001B[1;32m      6\u001B[0m     \u001B[38;5;241m+\u001B[39m[[\u001B[38;5;241m0\u001B[39m, \u001B[38;5;241m4\u001B[39m], [\u001B[38;5;241m0\u001B[39m, THRESHOLD_READS\u001B[38;5;241m*\u001B[39m\u001B[38;5;241m4\u001B[39m], [\u001B[38;5;241m0\u001B[39m, \u001B[38;5;241m30\u001B[39m]]\n\u001B[1;32m      7\u001B[0m )\n\u001B[1;32m      8\u001B[0m annotate_SBS_extra \u001B[38;5;241m=\u001B[39m Snake\u001B[38;5;241m.\u001B[39m_annotate_SBS_extra(\n\u001B[1;32m      9\u001B[0m     log\u001B[38;5;241m=\u001B[39mloged,\n\u001B[1;32m     10\u001B[0m     peaks\u001B[38;5;241m=\u001B[39mpeaks,\n\u001B[0;32m---> 11\u001B[0m     df_reads\u001B[38;5;241m=\u001B[39m\u001B[43mdf_reads\u001B[49m,\n\u001B[1;32m     12\u001B[0m     barcode_table\u001B[38;5;241m=\u001B[39mbarcodes,\n\u001B[1;32m     13\u001B[0m     sbs_cycles\u001B[38;5;241m=\u001B[39mSBS_CYCLES\n\u001B[1;32m     14\u001B[0m )\n\u001B[1;32m     15\u001B[0m save(name(description, tag\u001B[38;5;241m=\u001B[39m\u001B[38;5;124m'\u001B[39m\u001B[38;5;124mannotate_SBS_extra\u001B[39m\u001B[38;5;124m'\u001B[39m), annotate_SBS_extra,\n\u001B[1;32m     16\u001B[0m      display_ranges\u001B[38;5;241m=\u001B[39mannotate_extra_display_ranges[\u001B[38;5;241m1\u001B[39m:], luts\u001B[38;5;241m=\u001B[39mannotate_extra_luts[\u001B[38;5;241m1\u001B[39m:], compress\u001B[38;5;241m=\u001B[39m\u001B[38;5;241m1\u001B[39m)\n",
      "\u001B[0;31mNameError\u001B[0m: name 'df_reads' is not defined"
     ]
    }
   ],
   "source": [
    "# second-to-last channel annotates base calls (notches are mapped reads, pluses are unmapped reads)\n",
    "# last channel encodes peaks value\n",
    "annotate_extra_luts = LUTS + [ops.annotate.GRMC, ops.io.GRAY, ops.io.GRAY]\n",
    "annotate_extra_display_ranges = (\n",
    "    [(a/4, b/4) for a,b in DISPLAY_RANGES]\n",
    "    +[[0, 4], [0, THRESHOLD_READS*4], [0, 30]]\n",
    ")\n",
    "annotate_SBS_extra = Snake._annotate_SBS_extra(\n",
    "    log=loged,\n",
    "    peaks=peaks,\n",
    "    df_reads=df_reads,\n",
    "    barcode_table=barcodes,\n",
    "    sbs_cycles=SBS_CYCLES\n",
    ")\n",
    "save(name(description, tag='annotate_SBS_extra'), annotate_SBS_extra,\n",
    "     display_ranges=annotate_extra_display_ranges[1:], luts=annotate_extra_luts[1:], compress=1)"
   ]
  },
  {
   "cell_type": "code",
   "execution_count": null,
   "metadata": {
    "pycharm": {
     "name": "#%%\n"
    }
   },
   "outputs": [],
   "source": []
  }
 ],
 "metadata": {
  "kernelspec": {
   "display_name": "Python 3",
   "language": "python",
   "name": "python3"
  },
  "language_info": {
   "codemirror_mode": {
    "name": "ipython",
    "version": 3
   },
   "file_extension": ".py",
   "mimetype": "text/x-python",
   "name": "python",
   "nbconvert_exporter": "python",
   "pygments_lexer": "ipython3",
   "version": "3.7.6"
  }
 },
 "nbformat": 4,
 "nbformat_minor": 2
}