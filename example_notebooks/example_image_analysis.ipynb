{
 "cells": [
  {
   "cell_type": "markdown",
   "metadata": {
    "pycharm": {
     "name": "#%% md\n"
    }
   },
   "source": [
    "**This notebook runs the individual steps of the provided Snakemake pipeline. This may be useful for understanding the functions, but it is highly recommended to use Snakemake to run the pipeline on screening data.**"
   ]
  },
  {
   "cell_type": "code",
   "execution_count": 86,
   "metadata": {
    "pycharm": {
     "name": "#%%\n"
    }
   },
   "outputs": [],
   "source": [
    "import ops\n",
    "from ops.imports_ipython import *\n",
    "from ops.paper.cell_idr import setup_example\n",
    "\n",
    "# runs example from repository directory\n",
    "home = os.path.dirname(os.path.dirname(ops.__file__))\n",
    "os.chdir(home)"
   ]
  },
  {
   "cell_type": "code",
   "execution_count": 87,
   "metadata": {
    "pycharm": {
     "name": "#%%\n"
    }
   },
   "outputs": [
    {
     "data": {
      "text/plain": "'/Users/sasha/PycharmProjects/OpticalPooledScreens/example'"
     },
     "execution_count": 87,
     "metadata": {},
     "output_type": "execute_result"
    }
   ],
   "source": [
    "os.chdir(os.path.join(home, 'example'))\n",
    "os.path.join(home, 'example')"
   ]
  },
  {
   "cell_type": "code",
   "execution_count": 88,
   "outputs": [],
   "source": [
    "barcodes = pd.read_csv('barcodes.csv')\n",
    "\n",
    "THRESHOLD_READS = 50\n",
    "THRESHOLD_DAPI = 200\n",
    "THRESHOLD_CELL = 600\n",
    "NUCLEUS_AREA = 40, 400\n",
    "WILDCARDS = dict(well='A1', tile=107)\n",
    "\n",
    "SBS_CYCLES = [1, 2, 3, 4, 5, 7, 8, 9, 10, 11, 12]\n",
    "\n",
    "LUTS = [\n",
    "    ops.io.GRAY,\n",
    "    ops.io.GREEN,\n",
    "    ops.io.RED,\n",
    "    ops.io.MAGENTA,\n",
    "    ops.io.CYAN\n",
    "]\n",
    "\n",
    "DISPLAY_RANGES = [\n",
    "    [500, 15000],\n",
    "    [100, 10000],\n",
    "    [100, 20000],\n",
    "    [100, 8000],\n",
    "    [100, 6000]\n",
    "]"
   ],
   "metadata": {
    "collapsed": false,
    "pycharm": {
     "name": "#%%\n"
    }
   }
  },
  {
   "cell_type": "code",
   "execution_count": 89,
   "outputs": [
    {
     "name": "stdout",
     "output_type": "stream",
     "text": [
      "experimentC/input/10X_c1-SBS-1/10X_c1-SBS-1_A1_Tile-107.tif\n",
      "experimentC/input/10X_c2-SBS-2/10X_c2-SBS-2_A1_Tile-107.tif\n",
      "experimentC/input/10X_c3-SBS-3/10X_c3-SBS-3_A1_Tile-107.tif\n",
      "experimentC/input/10X_c4-SBS-4/10X_c4-SBS-4_A1_Tile-107.tif\n",
      "experimentC/input/10X_c5-SBS-5/10X_c5-SBS-5_A1_Tile-107.tif\n",
      "experimentC/input/10X_c6-SBS-6/10X_c6-SBS-6_A1_Tile-107.tif\n",
      "experimentC/input/10X_c7-SBS-7/10X_c7-SBS-7_A1_Tile-107.tif\n",
      "experimentC/input/10X_c8-SBS-8/10X_c8-SBS-8_A1_Tile-107.tif\n",
      "experimentC/input/10X_c9-SBS-9/10X_c9-SBS-9_A1_Tile-107.tif\n",
      "experimentC/input/10X_c10-SBS-10/10X_c10-SBS-10_A1_Tile-107.tif\n",
      "experimentC/input/10X_c11-SBS-11/10X_c11-SBS-11_A1_Tile-107.tif\n",
      "experimentC/input/10X_c12-SBS-12/10X_c12-SBS-12_A1_Tile-107.tif\n"
     ]
    }
   ],
   "source": [
    "search = 'experimentC/input/*/10X*{well}_Tile-{tile}.tif'.format(**WILDCARDS)\n",
    "input_files = natsorted(glob(search))\n",
    "for f in input_files:\n",
    "    print(f)\n",
    "\n",
    "# used to format output filenames\n",
    "description = parse(input_files[0])\n",
    "description['subdir'] = 'experimentC/process_ipynb'\n",
    "description.pop('cycle');"
   ],
   "metadata": {
    "collapsed": false,
    "pycharm": {
     "name": "#%%\n"
    }
   }
  },
  {
   "cell_type": "code",
   "execution_count": 90,
   "outputs": [],
   "source": [
    "data = np.array([read(f) for f in input_files])\n",
    "aligned = Snake._align_SBS(data)\n",
    "save(name(description, tag='aligned'), aligned, display_ranges=DISPLAY_RANGES, luts=LUTS)"
   ],
   "metadata": {
    "collapsed": false,
    "pycharm": {
     "name": "#%%\n"
    }
   }
  },
  {
   "cell_type": "code",
   "execution_count": 91,
   "outputs": [],
   "source": [
    "loged = Snake._transform_log(aligned, skip_index=0)\n",
    "save(name(description, tag='log'), loged, display_ranges=DISPLAY_RANGES, luts=LUTS)"
   ],
   "metadata": {
    "collapsed": false,
    "pycharm": {
     "name": "#%%\n"
    }
   }
  },
  {
   "cell_type": "code",
   "execution_count": 92,
   "outputs": [],
   "source": [
    "maxed = Snake._max_filter(loged, 3, remove_index=0)\n",
    "save(name(description, tag='maxed'), maxed, display_ranges=DISPLAY_RANGES[1:], luts=LUTS[1:])"
   ],
   "metadata": {
    "collapsed": false,
    "pycharm": {
     "name": "#%%\n"
    }
   }
  },
  {
   "cell_type": "markdown",
   "source": [
    "### detect candidate reads"
   ],
   "metadata": {
    "collapsed": false,
    "pycharm": {
     "name": "#%% md\n"
    }
   }
  },
  {
   "cell_type": "code",
   "execution_count": 93,
   "outputs": [],
   "source": [
    "std = Snake._compute_std(loged, remove_index=0)\n",
    "save(name(description, tag='std'), std)"
   ],
   "metadata": {
    "collapsed": false,
    "pycharm": {
     "name": "#%%\n"
    }
   }
  },
  {
   "cell_type": "code",
   "execution_count": 94,
   "outputs": [],
   "source": [
    "peaks = Snake._find_peaks(std)\n",
    "save(name(description, tag='peaks'), peaks)"
   ],
   "metadata": {
    "collapsed": false,
    "pycharm": {
     "name": "#%%\n"
    }
   }
  },
  {
   "cell_type": "markdown",
   "source": [
    "### segment nuclei and cells"
   ],
   "metadata": {
    "collapsed": false,
    "pycharm": {
     "name": "#%% md\n"
    }
   }
  },
  {
   "cell_type": "code",
   "execution_count": 95,
   "outputs": [],
   "source": [
    "nuclei = Snake._segment_nuclei(data[0], THRESHOLD_DAPI,\n",
    " area_min=NUCLEUS_AREA[0], area_max=NUCLEUS_AREA[1])\n",
    "\n",
    "save(name(description, tag='nuclei'), nuclei, compress=1)"
   ],
   "metadata": {
    "collapsed": false,
    "pycharm": {
     "name": "#%%\n"
    }
   }
  },
  {
   "cell_type": "code",
   "execution_count": 96,
   "outputs": [],
   "source": [
    "cells = Snake._segment_cells(data[0], nuclei, THRESHOLD_CELL)\n",
    "save(name(description, tag='cells'), cells, compress=1)"
   ],
   "metadata": {
    "collapsed": false,
    "pycharm": {
     "name": "#%%\n"
    }
   }
  },
  {
   "cell_type": "markdown",
   "source": [
    "### extract base intensity, call reads, assign to cells"
   ],
   "metadata": {
    "collapsed": false,
    "pycharm": {
     "name": "#%% md\n"
    }
   }
  },
  {
   "cell_type": "code",
   "execution_count": 97,
   "outputs": [
    {
     "name": "stdout",
     "output_type": "stream",
     "text": [
      "         read  cycle channel  intensity  cell     i    j  tile well\n",
      "0           0      1       A        653     0     5   81   107   A1\n",
      "1           0      1       C        431     0     5   81   107   A1\n",
      "2           0      1       G         28     0     5   81   107   A1\n",
      "3           0      1       T         16     0     5   81   107   A1\n",
      "4           0      2       A         17     0     5   81   107   A1\n",
      "...       ...    ...     ...        ...   ...   ...  ...   ...  ...\n",
      "800923  16685     11       T          0  3693  1014  128   107   A1\n",
      "800924  16685     12       A        666  3693  1014  128   107   A1\n",
      "800925  16685     12       C        835  3693  1014  128   107   A1\n",
      "800926  16685     12       G        472  3693  1014  128   107   A1\n",
      "800927  16685     12       T        547  3693  1014  128   107   A1\n",
      "\n",
      "[808608 rows x 9 columns]\n"
     ]
    }
   ],
   "source": [
    "df_bases = Snake._extract_bases(maxed, peaks, cells, \n",
    "                        THRESHOLD_READS, wildcards=WILDCARDS)\n",
    "print(df_bases)\n",
    "df_bases.to_csv(name(description, tag='bases', ext='csv'), index=None)"
   ],
   "metadata": {
    "collapsed": false,
    "pycharm": {
     "name": "#%%\n"
    }
   }
  },
  {
   "cell_type": "code",
   "execution_count": 98,
   "outputs": [],
   "source": [
    "df_reads = Snake._call_reads(df_bases, peaks=peaks)\n",
    "filename = name(description, tag='reads', ext='csv')\n",
    "df_reads.to_csv(filename, index=None)"
   ],
   "metadata": {
    "collapsed": false,
    "pycharm": {
     "name": "#%%\n"
    }
   }
  },
  {
   "cell_type": "code",
   "execution_count": 99,
   "outputs": [],
   "source": [
    "# read from csv to match numerical precision of snakemake pipeline\n",
    "df_reads = pd.read_csv(filename) \n",
    "df_cells = Snake._call_cells(df_reads)\n",
    "df_cells.to_csv(name(description, tag='cells', ext='csv'), index=None)"
   ],
   "metadata": {
    "collapsed": false,
    "pycharm": {
     "name": "#%%\n"
    }
   }
  },
  {
   "cell_type": "markdown",
   "source": [
    "### extract\n",
    "enotypes and combine with called cells"
   ],
   "metadata": {
    "collapsed": false,
    "pycharm": {
     "name": "#%% md\n"
    }
   }
  },
  {
   "cell_type": "code",
   "execution_count": 100,
   "metadata": {
    "pycharm": {
     "name": "#%%\n"
    }
   },
   "outputs": [],
   "source": [
    "# df_combined, barcode_info = Snake._merge_sbs_phenotype(\n",
    "#     sbs_tables=df_cells,\n",
    "#     phenotype_tables=None,\n",
    "#     barcode_table=barcodes,\n",
    "#     sbs_cycles=SBS_CYCLES\n",
    "# )\n",
    "# df_combined.to_csv(name(description, tag='combined', ext='csv'), index=None)\n",
    "# barcode_info.to_csv(name(description, tag='barcode_info', ext='csv'), index=None)\n",
    "# # print(barcode_info)"
   ]
  },
  {
   "cell_type": "markdown",
   "metadata": {
    "pycharm": {
     "name": "#%% md\n"
    }
   },
   "source": [
    "### annotated SBS images"
   ]
  },
  {
   "cell_type": "code",
   "execution_count": 101,
   "metadata": {
    "pycharm": {
     "name": "#%%\n"
    }
   },
   "outputs": [],
   "source": [
    "# last channel annotates base calls\n",
    "annotate_luts = LUTS + [ops.annotate.GRMC, ops.io.GRAY]\n",
    "annotate_display_ranges = [(a/4, b/4) for a,b in DISPLAY_RANGES] + [[0, 4]]\n",
    "annotate_SBS = Snake._annotate_SBS(log=loged, df_reads=df_reads)\n",
    "save(name(description, tag='annotate_SBS'), annotate_SBS,\n",
    "     display_ranges=annotate_display_ranges, luts=annotate_luts, compress=1)"
   ]
  },
  {
   "cell_type": "code",
   "execution_count": 102,
   "metadata": {
    "pycharm": {
     "name": "#%%\n"
    }
   },
   "outputs": [],
   "source": [
    "# # second-to-last channel annotates base calls (notches are mapped reads, pluses are unmapped reads)\n",
    "# # last channel encodes peaks value\n",
    "# annotate_extra_luts = LUTS + [ops.annotate.GRMC, ops.io.GRAY, ops.io.GRAY]\n",
    "# annotate_extra_display_ranges = (\n",
    "#     [(a/4, b/4) for a,b in DISPLAY_RANGES]\n",
    "#     +[[0, 4], [0, THRESHOLD_READS*4], [0, 30]]\n",
    "# )\n",
    "# annotate_SBS_extra = Snake._annotate_SBS_extra(\n",
    "#     log=loged,\n",
    "#     peaks=peaks,\n",
    "#     df_reads=df_reads,\n",
    "#     barcode_table=barcodes,\n",
    "#     sbs_cycles=SBS_CYCLES\n",
    "# )\n",
    "# save(name(description, tag='annotate_SBS_extra'), annotate_SBS_extra,\n",
    "#      display_ranges=annotate_extra_display_ranges[1:], luts=annotate_extra_luts[1:], compress=1)"
   ]
  },
  {
   "cell_type": "code",
   "execution_count": null,
   "metadata": {
    "pycharm": {
     "name": "#%%\n"
    }
   },
   "outputs": [],
   "source": []
  }
 ],
 "metadata": {
  "kernelspec": {
   "display_name": "Python 3",
   "language": "python",
   "name": "python3"
  },
  "language_info": {
   "codemirror_mode": {
    "name": "ipython",
    "version": 3
   },
   "file_extension": ".py",
   "mimetype": "text/x-python",
   "name": "python",
   "nbconvert_exporter": "python",
   "pygments_lexer": "ipython3",
   "version": "3.7.6"
  }
 },
 "nbformat": 4,
 "nbformat_minor": 2
}