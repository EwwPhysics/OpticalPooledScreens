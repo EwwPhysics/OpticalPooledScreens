{
 "cells": [
  {
   "cell_type": "markdown",
   "metadata": {
    "pycharm": {
     "name": "#%% md\n"
    }
   },
   "source": [
    "## initialize"
   ]
  },
  {
   "cell_type": "code",
   "execution_count": 119,
   "metadata": {
    "pycharm": {
     "name": "#%%\n"
    }
   },
   "outputs": [],
   "source": [
    "from ops.imports import *\n",
    "from ops.imports_ipython import *\n",
    "from ops import ngs"
   ]
  },
  {
   "cell_type": "markdown",
   "metadata": {
    "pycharm": {
     "name": "#%% md\n"
    }
   },
   "source": [
    "change directory to the folder containing sgRNA histograms output by the fastq2hist.sh script:"
   ]
  },
  {
   "cell_type": "code",
   "execution_count": 4,
   "metadata": {
    "pycharm": {
     "name": "#%%\n"
    }
   },
   "outputs": [],
   "source": [
    "os.chdir('~/data/miniseq/190526')"
   ]
  },
  {
   "cell_type": "markdown",
   "metadata": {
    "pycharm": {
     "name": "#%% md\n"
    }
   },
   "source": [
    "Set path to the design file (output from original library design)"
   ]
  },
  {
   "cell_type": "code",
   "execution_count": null,
   "metadata": {
    "pycharm": {
     "name": "#%%\n"
    }
   },
   "outputs": [],
   "source": [
    "f_design = '~/data/libraries/pool5_design.csv'"
   ]
  },
  {
   "cell_type": "markdown",
   "metadata": {
    "pycharm": {
     "name": "#%% md\n"
    }
   },
   "source": [
    "## find files"
   ]
  },
  {
   "cell_type": "code",
   "execution_count": 21,
   "metadata": {
    "pycharm": {
     "name": "#%%\n"
    }
   },
   "outputs": [],
   "source": [
    "search = '*.grep.sg.hist' #extension of sgRNA histogram files\n",
    "hist_files = natsorted(glob(search))"
   ]
  },
  {
   "cell_type": "code",
   "execution_count": 22,
   "metadata": {
    "pycharm": {
     "name": "#%%\n"
    }
   },
   "outputs": [
    {
     "data": {
      "text/plain": [
       "['T3_A01_S2_R1_001.fastq.grep.sg.hist',\n",
       " 'T3_A02_S3_R1_001.fastq.grep.sg.hist',\n",
       " 'T3_A03_S4_R1_001.fastq.grep.sg.hist',\n",
       " 'T3_A04_S5_R1_001.fastq.grep.sg.hist',\n",
       " 'T3_A05_S6_R1_001.fastq.grep.sg.hist',\n",
       " 'T3_A06_S7_R1_001.fastq.grep.sg.hist',\n",
       " 'T3_A07_S8_R1_001.fastq.grep.sg.hist']"
      ]
     },
     "execution_count": 22,
     "metadata": {},
     "output_type": "execute_result"
    }
   ],
   "source": [
    "hist_files"
   ]
  },
  {
   "cell_type": "markdown",
   "metadata": {
    "pycharm": {
     "name": "#%% md\n"
    }
   },
   "source": [
    "## read in histogram files"
   ]
  },
  {
   "cell_type": "markdown",
   "metadata": {
    "pycharm": {
     "name": "#%% md\n"
    }
   },
   "source": [
    "Create dictionary of {'dataset name':'file path'}"
   ]
  },
  {
   "cell_type": "code",
   "execution_count": 74,
   "metadata": {
    "pycharm": {
     "name": "#%%\n"
    }
   },
   "outputs": [],
   "source": [
    "pool_datasets = [f'pool5_{n}' for n in [1,4,5,6,8,9,10]\n",
    "hist_dict = {dataset:filename for dataset,filename in zip(pool_datasets,hist_files)}"
   ]
  },
  {
   "cell_type": "code",
   "execution_count": 76,
   "metadata": {
    "pycharm": {
     "name": "#%%\n"
    }
   },
   "outputs": [],
   "source": [
    "df_hist = ngs.load_sgRNA_hists(hist_dict)"
   ]
  },
  {
   "cell_type": "markdown",
   "metadata": {
    "pycharm": {
     "name": "#%% md\n"
    }
   },
   "source": [
    "## read in design file"
   ]
  },
  {
   "cell_type": "code",
   "execution_count": 77,
   "metadata": {
    "pycharm": {
     "name": "#%%\n"
    }
   },
   "outputs": [],
   "source": [
    "df_design = (\n",
    "    pd.read_csv(f_design)\n",
    "            )"
   ]
  },
  {
   "cell_type": "code",
   "execution_count": 78,
   "metadata": {
    "pycharm": {
     "name": "#%%\n"
    }
   },
   "outputs": [],
   "source": [
    "df_design = (df_design\n",
    "             .join((df_design\n",
    "                    .groupby(['subpool','sgRNA'])\n",
    "                    .sgRNA.count()\n",
    "                    .rename('spots_per_oligo')),\n",
    "                   on = ['subpool','sgRNA']\n",
    "                  )\n",
    "             .drop_duplicates(['subpool','sgRNA'])\n",
    "            )"
   ]
  },
  {
   "cell_type": "markdown",
   "metadata": {
    "pycharm": {
     "name": "#%% md\n"
    }
   },
   "source": [
    "## identify pools"
   ]
  },
  {
   "cell_type": "code",
   "execution_count": 86,
   "metadata": {
    "pycharm": {
     "name": "#%%\n"
    }
   },
   "outputs": [],
   "source": [
    "df_idpool = ngs.identify_pool(df_hist,df_design)"
   ]
  },
  {
   "cell_type": "markdown",
   "metadata": {
    "pycharm": {
     "name": "#%% md\n"
    }
   },
   "source": [
    "## calculate stats"
   ]
  },
  {
   "cell_type": "markdown",
   "metadata": {
    "pycharm": {
     "name": "#%% md\n"
    }
   },
   "source": [
    "NGS_Q90_10 here is the \"skew ratio\""
   ]
  },
  {
   "cell_type": "code",
   "execution_count": 87,
   "metadata": {
    "pycharm": {
     "name": "#%%\n"
    }
   },
   "outputs": [
    {
     "data": {
      "text/html": [
       "<div>\n",
       "<style scoped>\n",
       "    .dataframe tbody tr th:only-of-type {\n",
       "        vertical-align: middle;\n",
       "    }\n",
       "\n",
       "    .dataframe tbody tr th {\n",
       "        vertical-align: top;\n",
       "    }\n",
       "\n",
       "    .dataframe thead th {\n",
       "        text-align: right;\n",
       "    }\n",
       "</style>\n",
       "<table border=\"1\" class=\"dataframe\">\n",
       "  <thead>\n",
       "    <tr style=\"text-align: right;\">\n",
       "      <th></th>\n",
       "      <th></th>\n",
       "      <th></th>\n",
       "      <th></th>\n",
       "      <th>NGS_fraction</th>\n",
       "      <th>NGS_Q10</th>\n",
       "      <th>NGS_Q50</th>\n",
       "      <th>NGS_Q90</th>\n",
       "      <th>NGS_Q90_10</th>\n",
       "      <th>NGS_mean</th>\n",
       "      <th>NGS_std</th>\n",
       "      <th>NGS_max</th>\n",
       "      <th>NGS_min</th>\n",
       "      <th>sgRNA_designed</th>\n",
       "      <th>sgRNA_detected</th>\n",
       "      <th>sgRNA_missing</th>\n",
       "    </tr>\n",
       "    <tr>\n",
       "      <th>dataset</th>\n",
       "      <th>plate</th>\n",
       "      <th>well</th>\n",
       "      <th>subpool</th>\n",
       "      <th></th>\n",
       "      <th></th>\n",
       "      <th></th>\n",
       "      <th></th>\n",
       "      <th></th>\n",
       "      <th></th>\n",
       "      <th></th>\n",
       "      <th></th>\n",
       "      <th></th>\n",
       "      <th></th>\n",
       "      <th></th>\n",
       "      <th></th>\n",
       "    </tr>\n",
       "  </thead>\n",
       "  <tbody>\n",
       "    <tr>\n",
       "      <th>pool5_1</th>\n",
       "      <th>T3</th>\n",
       "      <th>A01</th>\n",
       "      <th>pool5_1</th>\n",
       "      <td>94.2%</td>\n",
       "      <td>152.0</td>\n",
       "      <td>333.0</td>\n",
       "      <td>589.1</td>\n",
       "      <td>3.875658</td>\n",
       "      <td>354.432828</td>\n",
       "      <td>174.172404</td>\n",
       "      <td>1286</td>\n",
       "      <td>14</td>\n",
       "      <td>1982</td>\n",
       "      <td>1980</td>\n",
       "      <td>2</td>\n",
       "    </tr>\n",
       "    <tr>\n",
       "      <th>pool5_10</th>\n",
       "      <th>T3</th>\n",
       "      <th>A07</th>\n",
       "      <th>pool5_10</th>\n",
       "      <td>95.5%</td>\n",
       "      <td>112.0</td>\n",
       "      <td>277.0</td>\n",
       "      <td>481.4</td>\n",
       "      <td>4.298214</td>\n",
       "      <td>291.286424</td>\n",
       "      <td>139.438756</td>\n",
       "      <td>860</td>\n",
       "      <td>6</td>\n",
       "      <td>606</td>\n",
       "      <td>604</td>\n",
       "      <td>2</td>\n",
       "    </tr>\n",
       "    <tr>\n",
       "      <th>pool5_4</th>\n",
       "      <th>T3</th>\n",
       "      <th>A02</th>\n",
       "      <th>pool5_4</th>\n",
       "      <td>94.6%</td>\n",
       "      <td>91.0</td>\n",
       "      <td>253.0</td>\n",
       "      <td>513.2</td>\n",
       "      <td>5.639560</td>\n",
       "      <td>283.168301</td>\n",
       "      <td>171.155307</td>\n",
       "      <td>1192</td>\n",
       "      <td>4</td>\n",
       "      <td>1944</td>\n",
       "      <td>1937</td>\n",
       "      <td>7</td>\n",
       "    </tr>\n",
       "    <tr>\n",
       "      <th>pool5_5</th>\n",
       "      <th>T3</th>\n",
       "      <th>A03</th>\n",
       "      <th>pool5_5</th>\n",
       "      <td>95.6%</td>\n",
       "      <td>18.0</td>\n",
       "      <td>88.0</td>\n",
       "      <td>281.0</td>\n",
       "      <td>15.611111</td>\n",
       "      <td>124.676808</td>\n",
       "      <td>115.482636</td>\n",
       "      <td>1183</td>\n",
       "      <td>4</td>\n",
       "      <td>7456</td>\n",
       "      <td>7330</td>\n",
       "      <td>126</td>\n",
       "    </tr>\n",
       "    <tr>\n",
       "      <th>pool5_6</th>\n",
       "      <th>T3</th>\n",
       "      <th>A04</th>\n",
       "      <th>pool5_6</th>\n",
       "      <td>93.7%</td>\n",
       "      <td>41.0</td>\n",
       "      <td>96.0</td>\n",
       "      <td>169.0</td>\n",
       "      <td>4.121951</td>\n",
       "      <td>101.934862</td>\n",
       "      <td>51.010832</td>\n",
       "      <td>660</td>\n",
       "      <td>4</td>\n",
       "      <td>18239</td>\n",
       "      <td>18146</td>\n",
       "      <td>93</td>\n",
       "    </tr>\n",
       "    <tr>\n",
       "      <th>pool5_8</th>\n",
       "      <th>T3</th>\n",
       "      <th>A05</th>\n",
       "      <th>pool5_8</th>\n",
       "      <td>87.5%</td>\n",
       "      <td>183.6</td>\n",
       "      <td>912.0</td>\n",
       "      <td>3541.6</td>\n",
       "      <td>19.289760</td>\n",
       "      <td>1886.000000</td>\n",
       "      <td>3193.546096</td>\n",
       "      <td>10720</td>\n",
       "      <td>117</td>\n",
       "      <td>10</td>\n",
       "      <td>10</td>\n",
       "      <td>0</td>\n",
       "    </tr>\n",
       "    <tr>\n",
       "      <th>pool5_9</th>\n",
       "      <th>T3</th>\n",
       "      <th>A06</th>\n",
       "      <th>pool5_9</th>\n",
       "      <td>97.0%</td>\n",
       "      <td>79.9</td>\n",
       "      <td>217.0</td>\n",
       "      <td>368.4</td>\n",
       "      <td>4.610763</td>\n",
       "      <td>233.460000</td>\n",
       "      <td>131.398801</td>\n",
       "      <td>695</td>\n",
       "      <td>18</td>\n",
       "      <td>100</td>\n",
       "      <td>100</td>\n",
       "      <td>0</td>\n",
       "    </tr>\n",
       "  </tbody>\n",
       "</table>\n",
       "</div>"
      ],
      "text/plain": [
       "                             NGS_fraction  NGS_Q10  NGS_Q50  NGS_Q90  \\\n",
       "dataset  plate well subpool                                            \n",
       "pool5_1  T3    A01  pool5_1         94.2%    152.0    333.0    589.1   \n",
       "pool5_10 T3    A07  pool5_10        95.5%    112.0    277.0    481.4   \n",
       "pool5_4  T3    A02  pool5_4         94.6%     91.0    253.0    513.2   \n",
       "pool5_5  T3    A03  pool5_5         95.6%     18.0     88.0    281.0   \n",
       "pool5_6  T3    A04  pool5_6         93.7%     41.0     96.0    169.0   \n",
       "pool5_8  T3    A05  pool5_8         87.5%    183.6    912.0   3541.6   \n",
       "pool5_9  T3    A06  pool5_9         97.0%     79.9    217.0    368.4   \n",
       "\n",
       "                              NGS_Q90_10     NGS_mean      NGS_std  NGS_max  \\\n",
       "dataset  plate well subpool                                                   \n",
       "pool5_1  T3    A01  pool5_1     3.875658   354.432828   174.172404     1286   \n",
       "pool5_10 T3    A07  pool5_10    4.298214   291.286424   139.438756      860   \n",
       "pool5_4  T3    A02  pool5_4     5.639560   283.168301   171.155307     1192   \n",
       "pool5_5  T3    A03  pool5_5    15.611111   124.676808   115.482636     1183   \n",
       "pool5_6  T3    A04  pool5_6     4.121951   101.934862    51.010832      660   \n",
       "pool5_8  T3    A05  pool5_8    19.289760  1886.000000  3193.546096    10720   \n",
       "pool5_9  T3    A06  pool5_9     4.610763   233.460000   131.398801      695   \n",
       "\n",
       "                              NGS_min  sgRNA_designed  sgRNA_detected  \\\n",
       "dataset  plate well subpool                                             \n",
       "pool5_1  T3    A01  pool5_1        14            1982            1980   \n",
       "pool5_10 T3    A07  pool5_10        6             606             604   \n",
       "pool5_4  T3    A02  pool5_4         4            1944            1937   \n",
       "pool5_5  T3    A03  pool5_5         4            7456            7330   \n",
       "pool5_6  T3    A04  pool5_6         4           18239           18146   \n",
       "pool5_8  T3    A05  pool5_8       117              10              10   \n",
       "pool5_9  T3    A06  pool5_9        18             100             100   \n",
       "\n",
       "                              sgRNA_missing  \n",
       "dataset  plate well subpool                  \n",
       "pool5_1  T3    A01  pool5_1               2  \n",
       "pool5_10 T3    A07  pool5_10              2  \n",
       "pool5_4  T3    A02  pool5_4               7  \n",
       "pool5_5  T3    A03  pool5_5             126  \n",
       "pool5_6  T3    A04  pool5_6              93  \n",
       "pool5_8  T3    A05  pool5_8               0  \n",
       "pool5_9  T3    A06  pool5_9               0  "
      ]
     },
     "execution_count": 87,
     "metadata": {},
     "output_type": "execute_result"
    }
   ],
   "source": [
    "ngs.calc_stats(df_idpool,df_design)"
   ]
  }
 ],
 "metadata": {
  "kernelspec": {
   "display_name": "Python 3",
   "language": "python",
   "name": "python3"
  },
  "language_info": {
   "codemirror_mode": {
    "name": "ipython",
    "version": 3
   },
   "file_extension": ".py",
   "mimetype": "text/x-python",
   "name": "python",
   "nbconvert_exporter": "python",
   "pygments_lexer": "ipython3",
   "version": "3.7.6"
  }
 },
 "nbformat": 4,
 "nbformat_minor": 2
}