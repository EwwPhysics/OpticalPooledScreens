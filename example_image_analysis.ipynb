{
  "nbformat": 4,
  "nbformat_minor": 0,
  "metadata": {
    "kernelspec": {
      "display_name": "Python 3",
      "language": "python",
      "name": "python3"
    },
    "language_info": {
      "codemirror_mode": {
        "name": "ipython",
        "version": 3
      },
      "file_extension": ".py",
      "mimetype": "text/x-python",
      "name": "python",
      "nbconvert_exporter": "python",
      "pygments_lexer": "ipython3",
      "version": "3.7.6"
    },
    "colab": {
      "name": "example_image_analysis.ipynb",
      "provenance": [],
      "collapsed_sections": []
    }
  },
  "cells": [
    {
      "cell_type": "markdown",
      "metadata": {
        "id": "aZzeueZADDR3",
        "colab_type": "text"
      },
      "source": [
        "# Set up github repo"
      ]
    },
    {
      "cell_type": "code",
      "metadata": {
        "id": "Ln7oeVp9A92t",
        "colab_type": "code",
        "colab": {}
      },
      "source": [
        "import os\n",
        "import sys\n",
        "from getpass import getpass"
      ],
      "execution_count": 1,
      "outputs": []
    },
    {
      "cell_type": "code",
      "metadata": {
        "id": "axc1D-9ofO8m",
        "colab_type": "code",
        "colab": {
          "base_uri": "https://localhost:8080/",
          "height": 51
        },
        "outputId": "89abc3c2-8253-40f7-ea10-fe554fa1bd9e"
      },
      "source": [
        "user = getpass('GitHub user')\n",
        "password = getpass('GitHub password/access token')\n",
        "os.environ['GITHUB_AUTH'] = user + ':' + password"
      ],
      "execution_count": 2,
      "outputs": [
        {
          "output_type": "stream",
          "text": [
            "GitHub user··········\n",
            "GitHub password/access token··········\n"
          ],
          "name": "stdout"
        }
      ]
    },
    {
      "cell_type": "code",
      "metadata": {
        "id": "6s_gtbWOA3nv",
        "colab_type": "code",
        "colab": {
          "base_uri": "https://localhost:8080/",
          "height": 136
        },
        "outputId": "59312502-f308-4a79-e413-ecb2f680bf4c"
      },
      "source": [
        "!git clone https://$GITHUB_AUTH@github.com/feldman4/NatureProtocols.git"
      ],
      "execution_count": 3,
      "outputs": [
        {
          "output_type": "stream",
          "text": [
            "Cloning into 'NatureProtocols'...\n",
            "remote: Enumerating objects: 197, done.\u001b[K\n",
            "remote: Counting objects: 100% (197/197), done.\u001b[K\n",
            "remote: Compressing objects: 100% (129/129), done.\u001b[K\n",
            "remote: Total 197 (delta 87), reused 176 (delta 66), pack-reused 0\u001b[K\n",
            "Receiving objects: 100% (197/197), 525.75 KiB | 2.45 MiB/s, done.\n",
            "Resolving deltas: 100% (87/87), done.\n"
          ],
          "name": "stdout"
        }
      ]
    },
    {
      "cell_type": "code",
      "metadata": {
        "id": "nzcYf--VDgFD",
        "colab_type": "code",
        "colab": {}
      },
      "source": [
        "os.chdir('NatureProtocols')"
      ],
      "execution_count": 4,
      "outputs": []
    },
    {
      "cell_type": "code",
      "metadata": {
        "id": "MoAvXZ_Z6cYb",
        "colab_type": "code",
        "colab": {
          "base_uri": "https://localhost:8080/",
          "height": 51
        },
        "outputId": "4d1b9925-e318-4e7c-c2f9-b87ab0656dcc"
      },
      "source": [
        "! git checkout LF"
      ],
      "execution_count": 5,
      "outputs": [
        {
          "output_type": "stream",
          "text": [
            "Branch 'LF' set up to track remote branch 'LF' from 'origin'.\n",
            "Switched to a new branch 'LF'\n"
          ],
          "name": "stdout"
        }
      ]
    },
    {
      "cell_type": "code",
      "metadata": {
        "id": "X2ltfjxAKVUq",
        "colab_type": "code",
        "colab": {
          "base_uri": "https://localhost:8080/",
          "height": 1000
        },
        "outputId": "aba84d41-5359-4a24-c98b-86063406e85f"
      },
      "source": [
        "! pip install -r requirements_gcolab.txt"
      ],
      "execution_count": 6,
      "outputs": [
        {
          "output_type": "stream",
          "text": [
            "Requirement already satisfied: decorator==4.4.2 in /usr/local/lib/python3.6/dist-packages (from -r requirements_gcolab.txt (line 1)) (4.4.2)\n",
            "Requirement already satisfied: joblib==0.15.1 in /usr/local/lib/python3.6/dist-packages (from -r requirements_gcolab.txt (line 2)) (0.15.1)\n",
            "Collecting matplotlib==3.1.3\n",
            "\u001b[?25l  Downloading https://files.pythonhosted.org/packages/7e/07/4b361d6d0f4e08942575f83a11d33f36897e1aae4279046606dd1808778a/matplotlib-3.1.3-cp36-cp36m-manylinux1_x86_64.whl (13.1MB)\n",
            "\u001b[K     |████████████████████████████████| 13.1MB 313kB/s \n",
            "\u001b[?25hCollecting natsort==7.0.1\n",
            "  Downloading https://files.pythonhosted.org/packages/0f/65/81883897f4aaa1e53deaa65137318cfe80b36ce013c2e86f8fd0843cfa02/natsort-7.0.1-py3-none-any.whl\n",
            "Requirement already satisfied: networkx==2.4 in /usr/local/lib/python3.6/dist-packages (from -r requirements_gcolab.txt (line 5)) (2.4)\n",
            "Collecting numpy==1.18.1\n",
            "\u001b[?25l  Downloading https://files.pythonhosted.org/packages/62/20/4d43e141b5bc426ba38274933ef8e76e85c7adea2c321ecf9ebf7421cedf/numpy-1.18.1-cp36-cp36m-manylinux1_x86_64.whl (20.1MB)\n",
            "\u001b[K     |████████████████████████████████| 20.2MB 1.5MB/s \n",
            "\u001b[?25hCollecting pandas==1.0.3\n",
            "\u001b[?25l  Downloading https://files.pythonhosted.org/packages/bb/71/8f53bdbcbc67c912b888b40def255767e475402e9df64050019149b1a943/pandas-1.0.3-cp36-cp36m-manylinux1_x86_64.whl (10.0MB)\n",
            "\u001b[K     |████████████████████████████████| 10.0MB 45.2MB/s \n",
            "\u001b[?25hCollecting python-Levenshtein==0.12.0\n",
            "\u001b[?25l  Downloading https://files.pythonhosted.org/packages/42/a9/d1785c85ebf9b7dfacd08938dd028209c34a0ea3b1bcdb895208bd40a67d/python-Levenshtein-0.12.0.tar.gz (48kB)\n",
            "\u001b[K     |████████████████████████████████| 51kB 5.7MB/s \n",
            "\u001b[?25hCollecting scikit-image==0.17.2\n",
            "\u001b[?25l  Downloading https://files.pythonhosted.org/packages/0e/ba/53e1bfbdfd0f94514d71502e3acea494a8b4b57c457adbc333ef386485da/scikit_image-0.17.2-cp36-cp36m-manylinux1_x86_64.whl (12.4MB)\n",
            "\u001b[K     |████████████████████████████████| 12.4MB 30.3MB/s \n",
            "\u001b[?25hCollecting scikit-learn==0.21.3\n",
            "\u001b[?25l  Downloading https://files.pythonhosted.org/packages/a0/c5/d2238762d780dde84a20b8c761f563fe882b88c5a5fb03c056547c442a19/scikit_learn-0.21.3-cp36-cp36m-manylinux1_x86_64.whl (6.7MB)\n",
            "\u001b[K     |████████████████████████████████| 6.7MB 40.3MB/s \n",
            "\u001b[?25hRequirement already satisfied: scipy==1.4.1 in /usr/local/lib/python3.6/dist-packages (from -r requirements_gcolab.txt (line 11)) (1.4.1)\n",
            "Requirement already satisfied: seaborn==0.10.1 in /usr/local/lib/python3.6/dist-packages (from -r requirements_gcolab.txt (line 12)) (0.10.1)\n",
            "Collecting six==1.14.0\n",
            "  Downloading https://files.pythonhosted.org/packages/65/eb/1f97cb97bfc2390a276969c6fae16075da282f5058082d4cb10c6c5c1dba/six-1.14.0-py2.py3-none-any.whl\n",
            "Collecting snakemake==5.5.4\n",
            "\u001b[?25l  Downloading https://files.pythonhosted.org/packages/74/a2/92a7632f96a3b5afd7ffaf18c4a73ae986bcb2416ee94b6aa9bf67ef0c9e/snakemake-5.5.4.tar.gz (177kB)\n",
            "\u001b[K     |████████████████████████████████| 184kB 49.7MB/s \n",
            "\u001b[?25hCollecting tables==3.5.1\n",
            "\u001b[?25l  Downloading https://files.pythonhosted.org/packages/ab/79/4e1301a87f3b7f27aa6c9cb1aeba4875ff3edb62a6fe3872dc8f04983db4/tables-3.5.1-cp36-cp36m-manylinux1_x86_64.whl (4.3MB)\n",
            "\u001b[K     |████████████████████████████████| 4.3MB 40.4MB/s \n",
            "\u001b[?25hCollecting tqdm==4.46.0\n",
            "\u001b[?25l  Downloading https://files.pythonhosted.org/packages/c9/40/058b12e8ba10e35f89c9b1fdfc2d4c7f8c05947df2d5eb3c7b258019fda0/tqdm-4.46.0-py2.py3-none-any.whl (63kB)\n",
            "\u001b[K     |████████████████████████████████| 71kB 9.0MB/s \n",
            "\u001b[?25hCollecting urllib3==1.25.9\n",
            "\u001b[?25l  Downloading https://files.pythonhosted.org/packages/e1/e5/df302e8017440f111c11cc41a6b432838672f5a70aa29227bf58149dc72f/urllib3-1.25.9-py2.py3-none-any.whl (126kB)\n",
            "\u001b[K     |████████████████████████████████| 133kB 44.8MB/s \n",
            "\u001b[?25hRequirement already satisfied: python-dateutil>=2.1 in /usr/local/lib/python3.6/dist-packages (from matplotlib==3.1.3->-r requirements_gcolab.txt (line 3)) (2.8.1)\n",
            "Requirement already satisfied: kiwisolver>=1.0.1 in /usr/local/lib/python3.6/dist-packages (from matplotlib==3.1.3->-r requirements_gcolab.txt (line 3)) (1.2.0)\n",
            "Requirement already satisfied: pyparsing!=2.0.4,!=2.1.2,!=2.1.6,>=2.0.1 in /usr/local/lib/python3.6/dist-packages (from matplotlib==3.1.3->-r requirements_gcolab.txt (line 3)) (2.4.7)\n",
            "Requirement already satisfied: cycler>=0.10 in /usr/local/lib/python3.6/dist-packages (from matplotlib==3.1.3->-r requirements_gcolab.txt (line 3)) (0.10.0)\n",
            "Requirement already satisfied: pytz>=2017.2 in /usr/local/lib/python3.6/dist-packages (from pandas==1.0.3->-r requirements_gcolab.txt (line 7)) (2018.9)\n",
            "Requirement already satisfied: setuptools in /usr/local/lib/python3.6/dist-packages (from python-Levenshtein==0.12.0->-r requirements_gcolab.txt (line 8)) (47.3.1)\n",
            "Requirement already satisfied: imageio>=2.3.0 in /usr/local/lib/python3.6/dist-packages (from scikit-image==0.17.2->-r requirements_gcolab.txt (line 9)) (2.4.1)\n",
            "Requirement already satisfied: tifffile>=2019.7.26 in /usr/local/lib/python3.6/dist-packages (from scikit-image==0.17.2->-r requirements_gcolab.txt (line 9)) (2020.6.3)\n",
            "Requirement already satisfied: pillow!=7.1.0,!=7.1.1,>=4.3.0 in /usr/local/lib/python3.6/dist-packages (from scikit-image==0.17.2->-r requirements_gcolab.txt (line 9)) (7.0.0)\n",
            "Requirement already satisfied: PyWavelets>=1.1.1 in /usr/local/lib/python3.6/dist-packages (from scikit-image==0.17.2->-r requirements_gcolab.txt (line 9)) (1.1.1)\n",
            "Requirement already satisfied: wrapt in /usr/local/lib/python3.6/dist-packages (from snakemake==5.5.4->-r requirements_gcolab.txt (line 14)) (1.12.1)\n",
            "Requirement already satisfied: requests in /usr/local/lib/python3.6/dist-packages (from snakemake==5.5.4->-r requirements_gcolab.txt (line 14)) (2.23.0)\n",
            "Collecting ratelimiter\n",
            "  Downloading https://files.pythonhosted.org/packages/51/80/2164fa1e863ad52cc8d870855fba0fbb51edd943edffd516d54b5f6f8ff8/ratelimiter-1.2.0.post0-py3-none-any.whl\n",
            "Requirement already satisfied: pyyaml in /usr/local/lib/python3.6/dist-packages (from snakemake==5.5.4->-r requirements_gcolab.txt (line 14)) (3.13)\n",
            "Collecting configargparse\n",
            "\u001b[?25l  Downloading https://files.pythonhosted.org/packages/bb/79/3045743bb26ca2e44a1d317c37395462bfed82dbbd38e69a3280b63696ce/ConfigArgParse-1.2.3.tar.gz (42kB)\n",
            "\u001b[K     |████████████████████████████████| 51kB 6.6MB/s \n",
            "\u001b[?25hCollecting appdirs\n",
            "  Downloading https://files.pythonhosted.org/packages/3b/00/2344469e2084fb287c2e0b57b72910309874c3245463acd6cf5e3db69324/appdirs-1.4.4-py2.py3-none-any.whl\n",
            "Collecting datrie\n",
            "\u001b[?25l  Downloading https://files.pythonhosted.org/packages/0b/e7/6c36d488e23f4b421b1351117417524ae2d3e138fdab83d23630c948199b/datrie-0.8.2-cp36-cp36m-manylinux1_x86_64.whl (544kB)\n",
            "\u001b[K     |████████████████████████████████| 552kB 36.3MB/s \n",
            "\u001b[?25hRequirement already satisfied: jsonschema in /usr/local/lib/python3.6/dist-packages (from snakemake==5.5.4->-r requirements_gcolab.txt (line 14)) (2.6.0)\n",
            "Requirement already satisfied: docutils in /usr/local/lib/python3.6/dist-packages (from snakemake==5.5.4->-r requirements_gcolab.txt (line 14)) (0.15.2)\n",
            "Collecting gitpython\n",
            "\u001b[?25l  Downloading https://files.pythonhosted.org/packages/8c/f9/c315aa88e51fabdc08e91b333cfefb255aff04a2ee96d632c32cb19180c9/GitPython-3.1.3-py3-none-any.whl (451kB)\n",
            "\u001b[K     |████████████████████████████████| 460kB 39.7MB/s \n",
            "\u001b[?25hCollecting mock>=2.0\n",
            "  Downloading https://files.pythonhosted.org/packages/cd/74/d72daf8dff5b6566db857cfd088907bb0355f5dd2914c4b3ef065c790735/mock-4.0.2-py3-none-any.whl\n",
            "Requirement already satisfied: numexpr>=2.6.2 in /usr/local/lib/python3.6/dist-packages (from tables==3.5.1->-r requirements_gcolab.txt (line 15)) (2.7.1)\n",
            "Requirement already satisfied: certifi>=2017.4.17 in /usr/local/lib/python3.6/dist-packages (from requests->snakemake==5.5.4->-r requirements_gcolab.txt (line 14)) (2020.6.20)\n",
            "Requirement already satisfied: idna<3,>=2.5 in /usr/local/lib/python3.6/dist-packages (from requests->snakemake==5.5.4->-r requirements_gcolab.txt (line 14)) (2.9)\n",
            "Requirement already satisfied: chardet<4,>=3.0.2 in /usr/local/lib/python3.6/dist-packages (from requests->snakemake==5.5.4->-r requirements_gcolab.txt (line 14)) (3.0.4)\n",
            "Collecting gitdb<5,>=4.0.1\n",
            "\u001b[?25l  Downloading https://files.pythonhosted.org/packages/48/11/d1800bca0a3bae820b84b7d813ad1eff15a48a64caea9c823fc8c1b119e8/gitdb-4.0.5-py3-none-any.whl (63kB)\n",
            "\u001b[K     |████████████████████████████████| 71kB 8.4MB/s \n",
            "\u001b[?25hCollecting smmap<4,>=3.0.1\n",
            "  Downloading https://files.pythonhosted.org/packages/b0/9a/4d409a6234eb940e6a78dfdfc66156e7522262f5f2fecca07dc55915952d/smmap-3.0.4-py2.py3-none-any.whl\n",
            "Building wheels for collected packages: python-Levenshtein, snakemake, configargparse\n",
            "  Building wheel for python-Levenshtein (setup.py) ... \u001b[?25l\u001b[?25hdone\n",
            "  Created wheel for python-Levenshtein: filename=python_Levenshtein-0.12.0-cp36-cp36m-linux_x86_64.whl size=144798 sha256=4eb0def766fa35c6289e9ebd88084e182ce25f3e121ba579dfdd86402918b9f1\n",
            "  Stored in directory: /root/.cache/pip/wheels/de/c2/93/660fd5f7559049268ad2dc6d81c4e39e9e36518766eaf7e342\n",
            "  Building wheel for snakemake (setup.py) ... \u001b[?25l\u001b[?25hdone\n",
            "  Created wheel for snakemake: filename=snakemake-5.5.4-cp36-none-any.whl size=188432 sha256=a8a1cb17c65a4759be1a67a26dae956e1f63c4dc9024430e928e0a500c9ffa17\n",
            "  Stored in directory: /root/.cache/pip/wheels/98/72/b6/892c0ddfb68f8c3dec6010ced95f87a02ab53a282d8afb782e\n",
            "  Building wheel for configargparse (setup.py) ... \u001b[?25l\u001b[?25hdone\n",
            "  Created wheel for configargparse: filename=ConfigArgParse-1.2.3-cp36-none-any.whl size=19328 sha256=6bd20cb973c0819f3d0a1b26afde5f5510629f241bada147c9f933dfd1fd715f\n",
            "  Stored in directory: /root/.cache/pip/wheels/bd/d6/53/034032da9498bda2385cd50a51a289e88090b5da2d592b1fdf\n",
            "Successfully built python-Levenshtein snakemake configargparse\n",
            "\u001b[31mERROR: kaggle 1.5.6 has requirement urllib3<1.25,>=1.21.1, but you'll have urllib3 1.25.9 which is incompatible.\u001b[0m\n",
            "\u001b[31mERROR: google-colab 1.0.0 has requirement six~=1.12.0, but you'll have six 1.14.0 which is incompatible.\u001b[0m\n",
            "\u001b[31mERROR: datascience 0.10.6 has requirement folium==0.2.1, but you'll have folium 0.8.3 which is incompatible.\u001b[0m\n",
            "\u001b[31mERROR: albumentations 0.1.12 has requirement imgaug<0.2.7,>=0.2.5, but you'll have imgaug 0.2.9 which is incompatible.\u001b[0m\n",
            "Installing collected packages: numpy, matplotlib, natsort, pandas, python-Levenshtein, scikit-image, scikit-learn, six, ratelimiter, configargparse, appdirs, datrie, smmap, gitdb, gitpython, snakemake, mock, tables, tqdm, urllib3\n",
            "  Found existing installation: numpy 1.18.5\n",
            "    Uninstalling numpy-1.18.5:\n",
            "      Successfully uninstalled numpy-1.18.5\n",
            "  Found existing installation: matplotlib 3.2.2\n",
            "    Uninstalling matplotlib-3.2.2:\n",
            "      Successfully uninstalled matplotlib-3.2.2\n",
            "  Found existing installation: natsort 5.5.0\n",
            "    Uninstalling natsort-5.5.0:\n",
            "      Successfully uninstalled natsort-5.5.0\n",
            "  Found existing installation: pandas 1.0.5\n",
            "    Uninstalling pandas-1.0.5:\n",
            "      Successfully uninstalled pandas-1.0.5\n",
            "  Found existing installation: scikit-image 0.16.2\n",
            "    Uninstalling scikit-image-0.16.2:\n",
            "      Successfully uninstalled scikit-image-0.16.2\n",
            "  Found existing installation: scikit-learn 0.22.2.post1\n",
            "    Uninstalling scikit-learn-0.22.2.post1:\n",
            "      Successfully uninstalled scikit-learn-0.22.2.post1\n",
            "  Found existing installation: six 1.12.0\n",
            "    Uninstalling six-1.12.0:\n",
            "      Successfully uninstalled six-1.12.0\n",
            "  Found existing installation: tables 3.4.4\n",
            "    Uninstalling tables-3.4.4:\n",
            "      Successfully uninstalled tables-3.4.4\n",
            "  Found existing installation: tqdm 4.41.1\n",
            "    Uninstalling tqdm-4.41.1:\n",
            "      Successfully uninstalled tqdm-4.41.1\n",
            "  Found existing installation: urllib3 1.24.3\n",
            "    Uninstalling urllib3-1.24.3:\n",
            "      Successfully uninstalled urllib3-1.24.3\n",
            "Successfully installed appdirs-1.4.4 configargparse-1.2.3 datrie-0.8.2 gitdb-4.0.5 gitpython-3.1.3 matplotlib-3.1.3 mock-4.0.2 natsort-7.0.1 numpy-1.18.1 pandas-1.0.3 python-Levenshtein-0.12.0 ratelimiter-1.2.0.post0 scikit-image-0.17.2 scikit-learn-0.21.3 six-1.14.0 smmap-3.0.4 snakemake-5.5.4 tables-3.5.1 tqdm-4.46.0 urllib3-1.25.9\n"
          ],
          "name": "stdout"
        },
        {
          "output_type": "display_data",
          "data": {
            "application/vnd.colab-display-data+json": {
              "pip_warning": {
                "packages": [
                  "matplotlib",
                  "mpl_toolkits",
                  "numpy",
                  "pandas",
                  "six",
                  "tqdm",
                  "urllib3"
                ]
              }
            }
          },
          "metadata": {
            "tags": []
          }
        }
      ]
    },
    {
      "cell_type": "markdown",
      "metadata": {
        "id": "kz7J0v95neb5",
        "colab_type": "text"
      },
      "source": [
        "click \"restart runtime\" above after pip installing requirements_gcolab.txt. "
      ]
    },
    {
      "cell_type": "code",
      "metadata": {
        "id": "tkRRsenWnVIx",
        "colab_type": "code",
        "colab": {}
      },
      "source": [
        "import sys, os"
      ],
      "execution_count": 1,
      "outputs": []
    },
    {
      "cell_type": "code",
      "metadata": {
        "id": "uhKSppuVNjZT",
        "colab_type": "code",
        "colab": {}
      },
      "source": [
        "sys.path.append('/content/NatureProtocols/DF')"
      ],
      "execution_count": 2,
      "outputs": []
    },
    {
      "cell_type": "markdown",
      "metadata": {
        "id": "s7aM_YMvn6kV",
        "colab_type": "text"
      },
      "source": [
        "# set up ascp for downloading data from IDR"
      ]
    },
    {
      "cell_type": "markdown",
      "metadata": {
        "id": "8p6mTuyOahF_",
        "colab_type": "text"
      },
      "source": [
        "This code works for linux machines (including Google Colab). If using a different OS, Windows and Mac installers can be found here: https://downloads.asperasoft.com/en/downloads/62 "
      ]
    },
    {
      "cell_type": "code",
      "metadata": {
        "id": "kXkpmrmdn_Ig",
        "colab_type": "code",
        "colab": {
          "base_uri": "https://localhost:8080/",
          "height": 204
        },
        "outputId": "09e043d9-4914-4247-d859-cd96f70e5923"
      },
      "source": [
        "! wget https://download.asperasoft.com/download/sw/cli/3.9.6/ibm-aspera-cli-3.9.6.1467.159c5b1-linux-64-release.sh"
      ],
      "execution_count": 3,
      "outputs": [
        {
          "output_type": "stream",
          "text": [
            "--2020-07-01 01:03:22--  https://download.asperasoft.com/download/sw/cli/3.9.6/ibm-aspera-cli-3.9.6.1467.159c5b1-linux-64-release.sh\n",
            "Resolving download.asperasoft.com (download.asperasoft.com)... 184.72.56.59\n",
            "Connecting to download.asperasoft.com (download.asperasoft.com)|184.72.56.59|:443... connected.\n",
            "HTTP request sent, awaiting response... 200 OK\n",
            "Length: 15381687 (15M) [application/binary]\n",
            "Saving to: ‘ibm-aspera-cli-3.9.6.1467.159c5b1-linux-64-release.sh’\n",
            "\n",
            "ibm-aspera-cli-3.9. 100%[===================>]  14.67M  7.55MB/s    in 1.9s    \n",
            "\n",
            "2020-07-01 01:03:24 (7.55 MB/s) - ‘ibm-aspera-cli-3.9.6.1467.159c5b1-linux-64-release.sh’ saved [15381687/15381687]\n",
            "\n"
          ],
          "name": "stdout"
        }
      ]
    },
    {
      "cell_type": "code",
      "metadata": {
        "id": "7A2Q9O6Zqf3h",
        "colab_type": "code",
        "colab": {
          "base_uri": "https://localhost:8080/",
          "height": 238
        },
        "outputId": "c6ae4951-4bee-4514-aa42-2a07e5488622"
      },
      "source": [
        "! bash ibm-aspera-cli-3.9.6.1467.159c5b1-linux-64-release.sh"
      ],
      "execution_count": 4,
      "outputs": [
        {
          "output_type": "stream",
          "text": [
            "\n",
            "Installing IBM Aspera CLI\n",
            "\n",
            "Installation into /root/.aspera/cli successful\n",
            "\n",
            "Optional installation steps:\n",
            "\n",
            "  To include aspera in your PATH, run this command (or add it to .bash_profile):\n",
            "    export PATH=/root/.aspera/cli/bin:$PATH\n",
            "\n",
            "  To install the man page, run the following command:\n",
            "    export MANPATH=/root/.aspera/cli/share/man:$MANPATH\n",
            "\n"
          ],
          "name": "stdout"
        }
      ]
    },
    {
      "cell_type": "code",
      "metadata": {
        "id": "d5C1oi34is3Z",
        "colab_type": "code",
        "colab": {}
      },
      "source": [
        "os.environ['PATH'] = \"/root/.aspera/cli/bin:\"+os.environ['PATH']"
      ],
      "execution_count": 5,
      "outputs": []
    },
    {
      "cell_type": "code",
      "metadata": {
        "id": "KWsJ5cn_hMMN",
        "colab_type": "code",
        "colab": {
          "base_uri": "https://localhost:8080/",
          "height": 204
        },
        "outputId": "e24aca73-f629-4758-b5c2-6b8bc4d8a619"
      },
      "source": [
        "! wget https://idr.openmicroscopy.org/about/img/aspera/asperaweb_id_dsa.openssh"
      ],
      "execution_count": 6,
      "outputs": [
        {
          "output_type": "stream",
          "text": [
            "--2020-07-01 01:03:30--  https://idr.openmicroscopy.org/about/img/aspera/asperaweb_id_dsa.openssh\n",
            "Resolving idr.openmicroscopy.org (idr.openmicroscopy.org)... 193.62.52.66\n",
            "Connecting to idr.openmicroscopy.org (idr.openmicroscopy.org)|193.62.52.66|:443... connected.\n",
            "HTTP request sent, awaiting response... 200 OK\n",
            "Length: 668 [application/octet-stream]\n",
            "Saving to: ‘asperaweb_id_dsa.openssh’\n",
            "\n",
            "asperaweb_id_dsa.op 100%[===================>]     668  --.-KB/s    in 0s      \n",
            "\n",
            "2020-07-01 01:03:31 (124 MB/s) - ‘asperaweb_id_dsa.openssh’ saved [668/668]\n",
            "\n"
          ],
          "name": "stdout"
        }
      ]
    },
    {
      "cell_type": "markdown",
      "metadata": {
        "id": "py7JByE1naCy",
        "colab_type": "text"
      },
      "source": [
        "# imports"
      ]
    },
    {
      "cell_type": "code",
      "metadata": {
        "id": "ENnwu6aWNXU6",
        "colab_type": "code",
        "colab": {
          "base_uri": "https://localhost:8080/",
          "height": 71
        },
        "outputId": "b5307734-394d-40f9-8075-49d5a864d1be"
      },
      "source": [
        "from ops.imports_ipython import *\n",
        "from ops.utils import download_from_idr\n",
        "# from ops.process import Align\n",
        "import ops.firesnake\n",
        "from ops.firesnake import Snake"
      ],
      "execution_count": 7,
      "outputs": [
        {
          "output_type": "stream",
          "text": [
            "/usr/local/lib/python3.6/dist-packages/statsmodels/tools/_testing.py:19: FutureWarning: pandas.util.testing is deprecated. Use the functions in the public API at pandas.testing instead.\n",
            "  import pandas.util.testing as tm\n"
          ],
          "name": "stderr"
        }
      ]
    },
    {
      "cell_type": "markdown",
      "metadata": {
        "id": "G7F8TB2_6B-X",
        "colab_type": "text"
      },
      "source": [
        "# download an example tile of data from IDR"
      ]
    },
    {
      "cell_type": "code",
      "metadata": {
        "id": "xTVlpMsxifmC",
        "colab_type": "code",
        "colab": {}
      },
      "source": [
        "df_files_idr = pd.read_csv('/content/NatureProtocols/files_idr.csv.gz')"
      ],
      "execution_count": 10,
      "outputs": []
    },
    {
      "cell_type": "code",
      "metadata": {
        "id": "-mppm2kg6B-a",
        "colab_type": "code",
        "colab": {}
      },
      "source": [
        "df_files = (df_files_idr\n",
        " .query('cell_line == \"A549 Cas9-blast\"')\n",
        " .query('tile == \"102\" & well == \"A1\"')\n",
        ")"
      ],
      "execution_count": 11,
      "outputs": []
    },
    {
      "cell_type": "code",
      "metadata": {
        "id": "tc0Bs-tqCbY_",
        "colab_type": "code",
        "colab": {
          "base_uri": "https://localhost:8080/",
          "height": 68
        },
        "outputId": "ea2db236-b212-41e3-bf51-62925ca25acc"
      },
      "source": [
        "download_from_idr(df_files['file'].tolist(),dest_dir='/content/data')"
      ],
      "execution_count": 12,
      "outputs": [
        {
          "output_type": "stream",
          "text": [
            "Completed: 313770K bytes transferred in 14 seconds\n",
            " (176089K bits/sec), in 17 files.\n",
            "\n"
          ],
          "name": "stdout"
        }
      ]
    },
    {
      "cell_type": "code",
      "metadata": {
        "id": "3FK1Bq9PAXxS",
        "colab_type": "code",
        "colab": {}
      },
      "source": [
        "os.chdir('/content/data/experimentC')"
      ],
      "execution_count": 13,
      "outputs": []
    },
    {
      "cell_type": "markdown",
      "metadata": {
        "id": "DdHuiH1Z6aRx",
        "colab_type": "text"
      },
      "source": [
        "# set parameters"
      ]
    },
    {
      "cell_type": "code",
      "metadata": {
        "id": "XwyxB3j76co7",
        "colab_type": "code",
        "colab": {}
      },
      "source": [
        "THRESHOLD_READS = 75  # threshold for detecting reads\n",
        "THRESHOLD_DAPI = 1200  # threshold for segmenting nuclei\n",
        "THRESHOLD_CELL = 800  # threshold for segmenting cells\n",
        "NUCLEUS_AREA = 0.25*150, 0.25*800\n",
        "WILDCARDS = dict(well='A1', tile='102')"
      ],
      "execution_count": 14,
      "outputs": []
    },
    {
      "cell_type": "markdown",
      "metadata": {
        "id": "5_LTm-s4BVOs",
        "colab_type": "text"
      },
      "source": [
        "# find input files"
      ]
    },
    {
      "cell_type": "code",
      "metadata": {
        "id": "ag3_RouW6dXm",
        "colab_type": "code",
        "colab": {
          "base_uri": "https://localhost:8080/",
          "height": 170
        },
        "outputId": "76a57389-1d10-460f-f389-3c251545b402"
      },
      "source": [
        "search = 'input/*/10X*{well}_Tile-{tile}.sbs.tif'.format(**WILDCARDS)\n",
        "input_files = natsorted(glob(search))\n",
        "for f in input_files:\n",
        "    print(f)"
      ],
      "execution_count": 15,
      "outputs": [
        {
          "output_type": "stream",
          "text": [
            "input/10X_c1-SBS-1/10X_c1-SBS-1_A1_Tile-102.sbs.tif\n",
            "input/10X_c2-SBS-2/10X_c2-SBS-2_A1_Tile-102.sbs.tif\n",
            "input/10X_c3-SBS-3/10X_c3-SBS-3_A1_Tile-102.sbs.tif\n",
            "input/10X_c4-SBS-4/10X_c4-SBS-4_A1_Tile-102.sbs.tif\n",
            "input/10X_c5-SBS-5/10X_c5-SBS-5_A1_Tile-102.sbs.tif\n",
            "input/10X_c7-SBS-7/10X_c7-SBS-7_A1_Tile-102.sbs.tif\n",
            "input/10X_c8-SBS-8/10X_c8-SBS-8_A1_Tile-102.sbs.tif\n",
            "input/10X_c9-SBS-9/10X_c9-SBS-9_A1_Tile-102.sbs.tif\n",
            "input/10X_c10-SBS-10/10X_c10-SBS-10_A1_Tile-102.sbs.tif\n"
          ],
          "name": "stdout"
        }
      ]
    },
    {
      "cell_type": "code",
      "metadata": {
        "id": "wFlcySiB6wCm",
        "colab_type": "code",
        "colab": {}
      },
      "source": [
        "# set output filename format\n",
        "description = parse(input_files[0])\n",
        "description['subdir'] = 'process_ipynb'\n",
        "description.pop('cycle');"
      ],
      "execution_count": 16,
      "outputs": []
    },
    {
      "cell_type": "markdown",
      "metadata": {
        "id": "KXiv-wJT6h8o",
        "colab_type": "text"
      },
      "source": [
        "### load, align, apply Laplacian-of-Gaussian filter (log)"
      ]
    },
    {
      "cell_type": "code",
      "metadata": {
        "id": "rjjqSNot6yyg",
        "colab_type": "code",
        "colab": {}
      },
      "source": [
        "# load and align data\n",
        "data = np.array([read(f) for f in input_files])\n",
        "aligned = Snake._align_SBS(data, method='DAPI')\n",
        "save(name(description, tag='aligned'), aligned)\n"
      ],
      "execution_count": 17,
      "outputs": []
    },
    {
      "cell_type": "code",
      "metadata": {
        "id": "ZXvIo1bDBiOE",
        "colab_type": "code",
        "colab": {}
      },
      "source": [
        "# filter SBS channels with Laplacian-of-Gaussian (LoG) filter\n",
        "loged = Snake._transform_log(aligned, skip_index=0)\n",
        "save(name(description, tag='log'), loged)"
      ],
      "execution_count": 18,
      "outputs": []
    },
    {
      "cell_type": "code",
      "metadata": {
        "id": "HHUqolNd6Dhr",
        "colab_type": "code",
        "colab": {}
      },
      "source": [
        "# dilate sequencing spots by max filtering LoG-ed images\n",
        "maxed = Snake._max_filter(loged, 3, remove_index=0)\n",
        "save(name(description, tag='maxed'), maxed)"
      ],
      "execution_count": 19,
      "outputs": []
    },
    {
      "cell_type": "markdown",
      "metadata": {
        "id": "QyXFVIgp6jPa",
        "colab_type": "text"
      },
      "source": [
        "### detect candidate reads"
      ]
    },
    {
      "cell_type": "code",
      "metadata": {
        "id": "lMOA5Nj4615b",
        "colab_type": "code",
        "colab": {}
      },
      "source": [
        "std = Snake._compute_std(loged, remove_index=0)\n",
        "save(name(description, tag='std'), std)\n",
        "\n",
        "peaks = Snake._find_peaks(std)\n",
        "save(name(description, tag='peaks'), peaks)"
      ],
      "execution_count": 20,
      "outputs": []
    },
    {
      "cell_type": "markdown",
      "metadata": {
        "id": "Ex4fuFh46j0I",
        "colab_type": "text"
      },
      "source": [
        "\n",
        "### segment nuclei and cells\n"
      ]
    },
    {
      "cell_type": "code",
      "metadata": {
        "id": "bKPN7dfK66YH",
        "colab_type": "code",
        "colab": {
          "base_uri": "https://localhost:8080/",
          "height": 105
        },
        "outputId": "967beddf-a2bc-4d6a-b588-e3f845d81410"
      },
      "source": [
        "nuclei = Snake._segment_nuclei(data[0], THRESHOLD_DAPI,\n",
        " area_min=NUCLEUS_AREA[0], area_max=NUCLEUS_AREA[1])\n",
        "save(name(description, tag='nuclei'), nuclei)\n",
        "\n",
        "cells = Snake._segment_cells(data[0], nuclei, THRESHOLD_CELL)\n",
        "save(name(description, tag='cells'), cells)"
      ],
      "execution_count": 21,
      "outputs": [
        {
          "output_type": "stream",
          "text": [
            "/usr/local/lib/python3.6/dist-packages/skimage/morphology/_deprecated.py:5: skimage_deprecation: Function ``watershed`` is deprecated and will be removed in version 0.19. Use ``skimage.segmentation.watershed`` instead.\n",
            "  def watershed(image, markers=None, connectivity=1, offset=None, mask=None,\n",
            "/usr/local/lib/python3.6/dist-packages/skimage/morphology/_deprecated.py:5: skimage_deprecation: Function ``watershed`` is deprecated and will be removed in version 0.19. Use ``skimage.segmentation.watershed`` instead.\n",
            "  def watershed(image, markers=None, connectivity=1, offset=None, mask=None,\n"
          ],
          "name": "stderr"
        }
      ]
    },
    {
      "cell_type": "markdown",
      "metadata": {
        "id": "a4uDkDNX6kgU",
        "colab_type": "text"
      },
      "source": [
        "### extract base intensity, call reads, assign to cells"
      ]
    },
    {
      "cell_type": "code",
      "metadata": {
        "id": "rLYsEFIx6-ML",
        "colab_type": "code",
        "colab": {}
      },
      "source": [
        "df_bases = Snake._extract_bases(maxed, peaks, cells, \n",
        "                        THRESHOLD_READS, wildcards=WILDCARDS)\n",
        "df_bases.to_csv(name(description, tag='bases', ext='csv'), index=None)\n",
        "\n",
        "df_reads = Snake._call_reads(df_bases)\n",
        "filename = name(description, tag='reads', ext='csv')\n",
        "df_reads.to_csv(filename, index=None)"
      ],
      "execution_count": 23,
      "outputs": []
    },
    {
      "cell_type": "code",
      "metadata": {
        "id": "I_PK4g9i7i1x",
        "colab_type": "code",
        "colab": {}
      },
      "source": [
        "# read from csv to match numerical precision of snakemake pipeline\n",
        "df_reads = pd.read_csv(filename) \n",
        "df_cells = Snake._call_cells(df_reads)\n",
        "df_cells.to_csv(name(description, tag='cells', ext='csv'), index=None)"
      ],
      "execution_count": 26,
      "outputs": []
    },
    {
      "cell_type": "markdown",
      "metadata": {
        "colab_type": "text",
        "id": "EDSdlP7G8LKW"
      },
      "source": [
        "# save processed data to google drive"
      ]
    },
    {
      "cell_type": "code",
      "metadata": {
        "colab_type": "code",
        "id": "1kqtx9v18LKX",
        "colab": {
          "base_uri": "https://localhost:8080/",
          "height": 34
        },
        "outputId": "cb4f395a-e986-45da-b6f4-2f79986cf510"
      },
      "source": [
        "from google.colab import drive\n",
        "drive.mount('/content/drive')"
      ],
      "execution_count": 32,
      "outputs": [
        {
          "output_type": "stream",
          "text": [
            "Drive already mounted at /content/drive; to attempt to forcibly remount, call drive.mount(\"/content/drive\", force_remount=True).\n"
          ],
          "name": "stdout"
        }
      ]
    },
    {
      "cell_type": "code",
      "metadata": {
        "colab_type": "code",
        "id": "1RqrDd6X8LKb",
        "colab": {}
      },
      "source": [
        "os.chdir('/content')"
      ],
      "execution_count": 34,
      "outputs": []
    },
    {
      "cell_type": "code",
      "metadata": {
        "id": "NtNCPxTy8XdA",
        "colab_type": "code",
        "colab": {}
      },
      "source": [
        "! cp -r /content/data/experimentC/process_ipynb/ /content/drive/My\\ Drive"
      ],
      "execution_count": 38,
      "outputs": []
    },
    {
      "cell_type": "code",
      "metadata": {
        "id": "I1O4qxk_8fxq",
        "colab_type": "code",
        "colab": {}
      },
      "source": [
        ""
      ],
      "execution_count": null,
      "outputs": []
    }
  ]
}