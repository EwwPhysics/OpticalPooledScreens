{
 "cells": [
  {
   "cell_type": "code",
   "execution_count": 345,
   "metadata": {
    "pycharm": {
     "name": "#%%\n"
    }
   },
   "outputs": [
    {
     "name": "stdout",
     "output_type": "stream",
     "text": [
      "/Users/sasha/PycharmProjects/OpticalPooledScreens/projects/steph\n"
     ]
    },
    {
     "name": "stderr",
     "output_type": "stream",
     "text": [
      "/Users/sasha/PycharmProjects/OpticalPooledScreens/venv/lib/python3.8/site-packages/tqdm/std.py:668: FutureWarning: The Panel class is removed from pandas. Accessing it from the top-level namespace will also be removed in the next version\n",
      "  from pandas import Panel\n"
     ]
    }
   ],
   "source": [
    "import ops\n",
    "from ops.imports_ipython import *\n",
    "\n",
    "# runs example from repository directory\n",
    "home = os.path.dirname(os.path.dirname(ops.__file__))\n",
    "os.chdir(os.path.join(home, 'projects', 'steph'))\n",
    "print(os.getcwd())"
   ]
  },
  {
   "cell_type": "code",
   "execution_count": 346,
   "outputs": [],
   "source": [
    "WILDCARDS = dict(well=3, tile=0) # change these to change the well and tile that you want to analyze\n",
    "CYCLES = 11 # number of cycles\n",
    "\n",
    "THRESHOLD_READS = 50\n",
    "THRESHOLD_DAPI = 2000\n",
    "THRESHOLD_CELL = 2500\n",
    "NUCLEUS_AREA = 40, 400\n",
    "\n",
    "# color of bases\n",
    "# lut = \"lookup table\", used to map one color to another like a filter\n",
    "LUTS = [\n",
    "    ops.io.GRAY,\n",
    "    ops.io.GREEN,\n",
    "    ops.io.RED,\n",
    "    ops.io.MAGENTA,\n",
    "    ops.io.CYAN\n",
    "]\n",
    "\n",
    "# for formatting tif images when they are saved?\n",
    "DISPLAY_RANGES = [\n",
    "    [500, 15000],\n",
    "    [100, 10000],\n",
    "    [100, 20000],\n",
    "    [100, 8000],\n",
    "    [100, 6000]\n",
    "]"
   ],
   "metadata": {
    "collapsed": false,
    "pycharm": {
     "name": "#%%\n"
    }
   }
  },
  {
   "cell_type": "code",
   "execution_count": 347,
   "outputs": [],
   "source": [
    "barcodes = pd.read_csv('design.csv') # list of barcodes along with which gene they target\n",
    "barcodes[\"prefix\"] = barcodes[\"barcode\"].apply(lambda x: x[:CYCLES])\n",
    "barcode_set = set(barcodes[\"prefix\"])"
   ],
   "metadata": {
    "collapsed": false,
    "pycharm": {
     "name": "#%%\n"
    }
   }
  },
  {
   "cell_type": "code",
   "execution_count": 348,
   "outputs": [
    {
     "name": "stdout",
     "output_type": "stream",
     "text": [
      "11\n",
      "['data/10x_Cycle1_Well3_Point3_0000_ChannelDAPI,G-ISS,T-ISS,A-ISS,C-ISS_Seq0784.ome.tif', 'data/10x_Cycle2_Well3_Point3_0000_ChannelDAPI,G-ISS,T-ISS,A-ISS,C-ISS_Seq0784.ome.tif', 'data/10x_Cycle3_Well3_Point3_0000_ChannelDAPI,G-ISS,T-ISS,A-ISS,C-ISS_Seq0784.ome.tif', 'data/10x_Cycle4_Well3_Point3_0000_ChannelDAPI,G-ISS,T-ISS,A-ISS,C-ISS_Seq0784.ome.tif', 'data/10x_Cycle5_Well3_Point3_0000_ChannelDAPI,G-ISS,T-ISS,A-ISS,C-ISS_Seq0784.ome.tif', 'data/10x_Cycle6_Well3_Point3_0000_ChannelDAPI,G-ISS,T-ISS,A-ISS,C-ISS_Seq0784.ome.tif', 'data/10x_Cycle7_Well3_Point3_0000_ChannelDAPI,G-ISS,T-ISS,A-ISS,C-ISS_Seq0784.ome.tif', 'data/10x_Cycle8_Well3_Point3_0000_ChannelDAPI,G-ISS,T-ISS,A-ISS,C-ISS_Seq0392.ome.tif', 'data/10x_Cycle9_Well3_Point3_0000_ChannelDAPI,G-ISS,T-ISS,A-ISS,C-ISS_Seq0784.ome.tif', 'data/10x_Cycle10_Well3_Point3_0000_ChannelDAPI,G-ISS,T-ISS,A-ISS,C-ISS_Seq0784.ome.tif', 'data/10x_Cycle11_Well3_Point3_0000_ChannelDAPI,G-ISS,T-ISS,A-ISS,C-ISS_Seq0784.ome.tif']\n"
     ]
    }
   ],
   "source": [
    "# find sbs images and print paths\n",
    "search = f'data/10x_Cycle*_Well{WILDCARDS[\"well\"]}_Point3_{str(WILDCARDS[\"tile\"]).rjust(4, \"0\")}*.ome.tif'\n",
    "input_files = natsorted(glob(search))\n",
    "print(len(input_files))\n",
    "print(input_files)\n",
    "# used to format output filenames\n",
    "description = {'mag': \"10X\", \"well\": WILDCARDS[\"well\"], 'tile': WILDCARDS['tile'], 'subdir': f'process_ipynb/tile{WILDCARDS[\"tile\"]}', 'ext': 'tif'}"
   ],
   "metadata": {
    "collapsed": false,
    "pycharm": {
     "name": "#%%\n"
    }
   }
  },
  {
   "cell_type": "code",
   "execution_count": 349,
   "outputs": [],
   "source": [
    "data = np.array([read(f) for f in input_files])"
   ],
   "metadata": {
    "collapsed": false,
    "pycharm": {
     "name": "#%%\n"
    }
   }
  },
  {
   "cell_type": "code",
   "execution_count": 350,
   "outputs": [],
   "source": [
    "data, x_offsets, y_offsets = Snake.align_SBS(data, method=\"SBS_mean\") # rigid alignment of sequencing cycles and channels.\n",
    "# save(name(description, tag='aligned'), data, display_ranges=DISPLAY_RANGES, luts=LUTS)"
   ],
   "metadata": {
    "collapsed": false,
    "pycharm": {
     "name": "#%%\n"
    }
   }
  },
  {
   "cell_type": "code",
   "execution_count": 351,
   "outputs": [],
   "source": [
    "loged = Snake.transform_log(data, skip_index=0) # apply Laplacian-of-Gaussian filter from scipy.ndimage.\n",
    "# save(name(description, tag='log'), loged, display_ranges=DISPLAY_RANGES, luts=LUTS)"
   ],
   "metadata": {
    "collapsed": false,
    "pycharm": {
     "name": "#%%\n"
    }
   }
  },
  {
   "cell_type": "code",
   "execution_count": 352,
   "outputs": [
    {
     "name": "stderr",
     "output_type": "stream",
     "text": [
      "[autoreload of ops.firesnake failed: Traceback (most recent call last):\n",
      "  File \"/Users/sasha/PycharmProjects/OpticalPooledScreens/venv/lib/python3.8/site-packages/IPython/extensions/autoreload.py\", line 257, in check\n",
      "    superreload(m, reload, self.old_objects)\n",
      "  File \"/Users/sasha/PycharmProjects/OpticalPooledScreens/venv/lib/python3.8/site-packages/IPython/extensions/autoreload.py\", line 480, in superreload\n",
      "    update_generic(old_obj, new_obj)\n",
      "  File \"/Users/sasha/PycharmProjects/OpticalPooledScreens/venv/lib/python3.8/site-packages/IPython/extensions/autoreload.py\", line 377, in update_generic\n",
      "    update(a, b)\n",
      "  File \"/Users/sasha/PycharmProjects/OpticalPooledScreens/venv/lib/python3.8/site-packages/IPython/extensions/autoreload.py\", line 329, in update_class\n",
      "    if update_generic(old_obj, new_obj):\n",
      "  File \"/Users/sasha/PycharmProjects/OpticalPooledScreens/venv/lib/python3.8/site-packages/IPython/extensions/autoreload.py\", line 377, in update_generic\n",
      "    update(a, b)\n",
      "  File \"/Users/sasha/PycharmProjects/OpticalPooledScreens/venv/lib/python3.8/site-packages/IPython/extensions/autoreload.py\", line 289, in update_function\n",
      "    setattr(old, name, getattr(new, name))\n",
      "ValueError: _align_SBS() requires a code object with 1 free vars, not 0\n",
      "]\n"
     ]
    }
   ],
   "source": [
    "maxed = Snake.max_filter(loged, 3, remove_index=0) # apply a maximum filter in a window of `width`. Conventionally operates on Laplacian-of-Gaussian filtered SBS data, dilating sequencing channels to compensate for single-pixel alignment error.\n",
    "# save(name(description, tag='maxed'), maxed, display_ranges=DISPLAY_RANGES[1:], luts=LUTS[1:])"
   ],
   "metadata": {
    "collapsed": false,
    "pycharm": {
     "name": "#%%\n"
    }
   }
  },
  {
   "cell_type": "markdown",
   "source": [],
   "metadata": {
    "collapsed": false,
    "pycharm": {
     "name": "#%% md\n"
    }
   }
  },
  {
   "cell_type": "code",
   "execution_count": 353,
   "outputs": [],
   "source": [
    "std = Snake.compute_std(loged, remove_index=0) # use standard deviation over cycles, followed by mean across channels to estimate sequencing read locations.\n",
    "# save(name(description, tag='std'), std)"
   ],
   "metadata": {
    "collapsed": false,
    "pycharm": {
     "name": "#%%\n"
    }
   }
  },
  {
   "cell_type": "code",
   "execution_count": 354,
   "outputs": [],
   "source": [
    "peaks = Snake.find_peaks(std) # where are the spots\n",
    "# save(name(description, tag='peaks'), peaks)"
   ],
   "metadata": {
    "collapsed": false,
    "pycharm": {
     "name": "#%%\n"
    }
   }
  },
  {
   "cell_type": "markdown",
   "source": [
    "### segment nuclei and cells"
   ],
   "metadata": {
    "collapsed": false,
    "pycharm": {
     "name": "#%% md\n"
    }
   }
  },
  {
   "cell_type": "code",
   "execution_count": 355,
   "outputs": [],
   "source": [
    "# Find nuclei from DAPI (fluorescent stain)\n",
    "# change first argument if DAPI staining is only done for a certain cycle, eg. 11th cycle would be data[10]\n",
    "nuclei = Snake.segment_nuclei(data[0], THRESHOLD_DAPI,\n",
    " area_min=NUCLEUS_AREA[0], area_max=NUCLEUS_AREA[1])\n",
    "\n",
    "save(name(description, tag='nuclei'), nuclei, compress=1)"
   ],
   "metadata": {
    "collapsed": false,
    "pycharm": {
     "name": "#%%\n"
    }
   }
  },
  {
   "cell_type": "code",
   "execution_count": 356,
   "outputs": [],
   "source": [
    "cells = Snake.segment_cells(data[0], nuclei, THRESHOLD_CELL) # Matches cell labels to nuclei labels.\n",
    "save(name(description, tag='cells'), cells, compress=1)"
   ],
   "metadata": {
    "collapsed": false,
    "pycharm": {
     "name": "#%%\n"
    }
   }
  },
  {
   "cell_type": "markdown",
   "source": [
    "### extract base intensity, call reads, assign to cells"
   ],
   "metadata": {
    "collapsed": false,
    "pycharm": {
     "name": "#%% md\n"
    }
   }
  },
  {
   "cell_type": "code",
   "execution_count": 357,
   "outputs": [],
   "source": [
    "# Find the signal intensity from `maxed` at each point in `peaks` above `threshold_peaks`.\n",
    "df_bases = Snake.extract_bases(maxed, peaks, cells,\n",
    "                        THRESHOLD_READS, wildcards=WILDCARDS)\n",
    "# df_bases.to_csv(name(description, tag='bases', ext='csv'), index=None)"
   ],
   "metadata": {
    "collapsed": false,
    "pycharm": {
     "name": "#%%\n"
    }
   }
  },
  {
   "cell_type": "code",
   "execution_count": 358,
   "outputs": [],
   "source": [
    "df_reads = Snake.call_reads(df_bases, peaks=peaks) # call reads by compensating for channel cross-talk and calling the base with the highest corrected intensity for each cycle. Q = quality?\n",
    "filename = name(description, tag='reads', ext='csv')\n",
    "df_reads.to_csv(filename, index=None)"
   ],
   "metadata": {
    "collapsed": false,
    "pycharm": {
     "name": "#%%\n"
    }
   }
  },
  {
   "cell_type": "code",
   "execution_count": 359,
   "outputs": [],
   "source": [
    "# read from csv to match numerical precision of snakemake pipeline\n",
    "df_reads = pd.read_csv(name(description, tag='reads', ext='csv'))\n",
    "df_cells = Snake.call_cells(df_reads, df_pool=barcodes) # gets the two most-common barcode reads for each cell (prioritizes barcodes found in gene pool)\n",
    "df_cells.to_csv(name(description, tag='cells', ext='csv'), index=None)"
   ],
   "metadata": {
    "collapsed": false,
    "pycharm": {
     "name": "#%%\n"
    }
   }
  },
  {
   "cell_type": "code",
   "execution_count": 360,
   "outputs": [],
   "source": [
    "if WILDCARDS[\"tile\"] not in pd.read_csv(\"process_ipynb/cells.csv\")[\"tile\"]:\n",
    "    df_cells.to_csv(\"process_ipynb/cells.csv\", mode=\"a\", index=False, header=False)"
   ],
   "metadata": {
    "collapsed": false,
    "pycharm": {
     "name": "#%%\n"
    }
   }
  },
  {
   "cell_type": "markdown",
   "metadata": {
    "pycharm": {
     "name": "#%% md\n"
    }
   },
   "source": [
    "### annotated SBS images"
   ]
  },
  {
   "cell_type": "code",
   "execution_count": 361,
   "outputs": [],
   "source": [
    "# last channel annotates base calls\n",
    "annotate_luts = LUTS + [ops.annotate.GRMC, ops.io.GRAY]\n",
    "annotate_display_ranges = [(a / 4, b / 4) for a,b in DISPLAY_RANGES] + [(0, 4)]\n",
    "annotate_SBS = Snake.annotate_SBS(log=loged, df_reads=df_reads)\n",
    "\n",
    "save(name(description, tag='annotate_SBS'), annotate_SBS,\n",
    "     display_ranges=annotate_display_ranges, luts=annotate_luts, compress=1)"
   ],
   "metadata": {
    "collapsed": false,
    "pycharm": {
     "name": "#%%\n"
    }
   }
  },
  {
   "cell_type": "markdown",
   "source": [
    "### idk :)"
   ],
   "metadata": {
    "collapsed": false,
    "pycharm": {
     "name": "#%% md\n"
    }
   }
  },
  {
   "cell_type": "code",
   "execution_count": 362,
   "outputs": [],
   "source": [
    "from collections import defaultdict"
   ],
   "metadata": {
    "collapsed": false,
    "pycharm": {
     "name": "#%%\n"
    }
   }
  },
  {
   "cell_type": "code",
   "execution_count": 363,
   "outputs": [
    {
     "name": "stdout",
     "output_type": "stream",
     "text": [
      "[('ATAATAGCATT', 18), ('CTCAACCACTT', 14), ('GACAGACTGGT', 9), ('GAAGAAGGATG', 9), ('AGGTCTGCCCA', 9), ('CTCTCAGACCT', 8), ('ACTACTAGCTC', 7), ('TCTAGCTGAGT', 7), ('AAAGCTATGTT', 6), ('GTTGCCAGCTT', 6), ('GCACTATTAAT', 5), ('CTGATCAGGAT', 5), ('ACCATCGCATG', 4), ('GCGATGGCCTC', 4), ('CGAAAGATACC', 4), ('TGGACAGTGCC', 4), ('GGAATGGGAAG', 4), ('TTGCCTCACCC', 4), ('CTCCCCGACTA', 3), ('ACTCTCTAATA', 3), ('GATCGCTTTCC', 3), ('CCAACAACGTA', 3), ('CTCAAACTTAT', 3), ('CCCACCACCCC', 3), ('ATGAGTCAAAG', 3), ('TCTTTCCAACT', 3), ('AGCCCCTCCTT', 3), ('GGTCGTGGGTC', 2), ('AGGTGGGGCTG', 2), ('AAGTTCTTGAA', 2), ('GTATGGGCTGC', 2), ('GTGCCACAAAC', 2), ('GGTCCCGCAGC', 2), ('CCAGCTTTGAT', 2), ('CGCCTGCGCAC', 2), ('TTCTCTATGTA', 2), ('AGATGCGAGCT', 2), ('GATCTCAACTC', 2), ('GGTGAAGTCGT', 2), ('GTATATCCTCT', 2), ('CCTCTCCCAAT', 2), ('TTAGCCGGATG', 2), ('AACCGAGAGGG', 1), ('ACTACAGTCCA', 1), ('ACCCGACAAAT', 1), ('TGTCGACAAAT', 1), ('ACGCAGGTTAA', 1), ('TGAGCTTCTGG', 1), ('GGTCCCCAACC', 1), ('GTTTCGAAACT', 1), ('GTTGATCGAAA', 1), ('GTTTTACATCT', 1), ('CCACTATTCCC', 1), ('AACATGGCACT', 1), ('GAAAGCACGCT', 1), ('CCCACCACACC', 1), ('CCACCAAGTCA', 1), ('CCCACTGTCCT', 1), ('GCCTGCCCTAA', 1), ('AAATGCAGAGC', 1), ('GAACACGAGAT', 1), ('GAGAAGATAGC', 1), ('GAGAGGCAGCC', 1), ('AGAACCGGTCA', 1), ('ATTCGCCCATC', 1), ('ATGCTGATCTA', 1), ('TTGTGCTGTCC', 1), ('GAAATCGCCCC', 1), ('AACTTGCAACC', 1), ('GAGCAACATTT', 1), ('ACATACGTGAT', 1), ('GTGATAATGTT', 1), ('CCTGGGTCTAC', 1), ('CGGAGAGGGGA', 1), ('TTCACCGTCCA', 1), ('AAACCTCGCTG', 1), ('AGATCAGGTGG', 1), ('GCCCCAAGAAT', 1), ('CCCCAAAGGAA', 1), ('ACAGTTAAATT', 1), ('CTGGCCCCCAT', 1), ('GGGCTTCTGCT', 1), ('GCTTCAAGTAT', 1), ('TATGCTAATGC', 1), ('GAACTCGGACA', 1), ('ATGAGCAGTGC', 1), ('TGCCGCTTGCC', 1), ('AGGCCTCGTGC', 1), ('CAACCAGTACC', 1), ('GGGCATGAGAT', 1), ('GTGCAATATGA', 1), ('ATGAGCACCAC', 1)]\n"
     ]
    }
   ],
   "source": [
    "barcode_counts = defaultdict(int)\n",
    "\n",
    "for index, row in df_cells.iterrows():\n",
    "    b0 = row[\"barcode_0\"]\n",
    "    b1 = row[\"barcode_1\"]\n",
    "    if b0 in barcode_set: # lots of messed up reads...\n",
    "        barcode_counts[b0] += int(row[\"count_0\"])\n",
    "    if b1 in barcode_set:\n",
    "        barcode_counts[b1] += int(float(row[\"count_1\"]))\n",
    "\n",
    "print(sorted(barcode_counts.items(), key=lambda x: x[1], reverse=True))"
   ],
   "metadata": {
    "collapsed": false,
    "pycharm": {
     "name": "#%%\n"
    }
   }
  },
  {
   "cell_type": "code",
   "execution_count": null,
   "outputs": [],
   "source": [],
   "metadata": {
    "collapsed": false,
    "pycharm": {
     "name": "#%%\n"
    }
   }
  }
 ],
 "metadata": {
  "kernelspec": {
   "display_name": "Python 3",
   "language": "python",
   "name": "python3"
  },
  "language_info": {
   "codemirror_mode": {
    "name": "ipython",
    "version": 3
   },
   "file_extension": ".py",
   "mimetype": "text/x-python",
   "name": "python",
   "nbconvert_exporter": "python",
   "pygments_lexer": "ipython3",
   "version": "3.7.6"
  }
 },
 "nbformat": 4,
 "nbformat_minor": 2
}